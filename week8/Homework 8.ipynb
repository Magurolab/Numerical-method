{
 "cells": [
  {
   "cell_type": "code",
   "execution_count": 1,
   "metadata": {},
   "outputs": [],
   "source": [
    "%matplotlib inline\n",
    "import numpy as np\n",
    "from matplotlib import pyplot as plt\n",
    "import math"
   ]
  },
  {
   "cell_type": "markdown",
   "metadata": {},
   "source": [
    "## Random Methods"
   ]
  },
  {
   "cell_type": "markdown",
   "metadata": {},
   "source": [
    "#### 1) Psuedo random number generator.\n",
    "\n",
    "Write a random number generator that gives random integer from 1 to 5. Make sure the cycle length is greater than 30."
   ]
  },
  {
   "cell_type": "code",
   "execution_count": 2,
   "metadata": {},
   "outputs": [
    {
     "name": "stdout",
     "output_type": "stream",
     "text": [
      "4 3 4 2 2 3 1 4 2 1 5 5 4 3 4 2 2 3 1 4 2 1 5 5 4 3 4 2 2 3 1 4 2 1 5 5 4 3 4 2 2 3 1 4 2 1 5 5 4 3 4 2 2 3 1 4 2 1 5 5 "
     ]
    }
   ],
   "source": [
    "######random###\n",
    "a = 3\n",
    "b = 7\n",
    "x0 = 5\n",
    "#####random####\n",
    "\n",
    "x= x0\n",
    "n = 0\n",
    "while n < 60:\n",
    "    x = (a*x+b)%(35)\n",
    "    n+=1\n",
    "    print(x%6, end =' ')"
   ]
  },
  {
   "cell_type": "markdown",
   "metadata": {},
   "source": [
    "#### 2)  Monte Carlo Integral.\n",
    "\n",
    "Evaluate the following integral\n",
    "\n",
    "$$\\iiint \\limits_C e^{-2x^2y^3z^4} \\; dx \\; dy \\; dz $$\n",
    "\n",
    "where $C$ is a sphere of radius 2 centered at (1,2,3)."
   ]
  },
  {
   "cell_type": "code",
   "execution_count": 3,
   "metadata": {},
   "outputs": [],
   "source": [
    "from numpy.random import random, randint, randn"
   ]
  },
  {
   "cell_type": "code",
   "execution_count": 4,
   "metadata": {},
   "outputs": [],
   "source": [
    "def f(r):\n",
    "    x = np.random.random()*4 -1\n",
    "    y = np.random.random()*4 \n",
    "    z = np.random.random()*4 +1\n",
    "    if ((x-1)**2 + (y-2)**2 + (z-3)**2)**0.5 >r: # if it is not in the sphere\n",
    "        return 0\n",
    "    return np.exp(-2*(x**2)*(y**3)*(z**4))"
   ]
  },
  {
   "cell_type": "code",
   "execution_count": 5,
   "metadata": {},
   "outputs": [
    {
     "data": {
      "text/plain": [
       "1.2800330817489955"
      ]
     },
     "execution_count": 5,
     "metadata": {},
     "output_type": "execute_result"
    }
   ],
   "source": [
    "many_times = 1000000 # pick n  some pieces\n",
    "n = many_times\n",
    "v = 4*4*4 #volume of the thing want to intigrate still use a box\n",
    "sum([f(2) for i in range(n)]) * v/n"
   ]
  },
  {
   "cell_type": "code",
   "execution_count": null,
   "metadata": {},
   "outputs": [],
   "source": []
  },
  {
   "cell_type": "markdown",
   "metadata": {},
   "source": [
    "#### 3) Coffee Shop (You can pick one to do either problem 3 or problem 4)"
   ]
  },
  {
   "cell_type": "markdown",
   "metadata": {},
   "source": [
    "Let us consider the fruit shop in MUIC canteen. On each day the shop owner needs to figure out how many mangoes to buy on each day.\n",
    "\n",
    "MUIC has about 4000 students: 2200 female and 1800 male.\n",
    "The probability that a female student will buy mangoes on a day is about 5% and for male student is 3%.\n",
    "\n",
    "Each mango costs the shop 8 Baht a piece. The shop sell it for 20 Baht making 12 Baht profit. To make the problem simple we will assume two things.\n",
    "\n",
    " 1. Mango last only one day which means any left over mango worth 0 Baht at the end of the day.\n",
    " 2. To make the problem simple let us ignore the fixed cost such as rent and labor.\n",
    " 3. The shop owner cannot refill mango during the day. If the shop ran out of mango, and next customer comes in. The shop can't make the sale.\n",
    " \n",
    "The shopowner wants to maximize the profit. If the shop owner take the risk by buying a lot he will not be short of mango on a good day, but on a bad day he/she will lose a lot. The shop owner can play safe by buying very few mango so he/she don't lose too much on a bad day, but he/she will miss out a lot of money on a good day.\n",
    "\n",
    "Your task is to figure out how many mangoes the shop owner should buy.\n",
    "\n",
    "Hint: Use simulation and make a useful plot."
   ]
  },
  {
   "cell_type": "code",
   "execution_count": null,
   "metadata": {},
   "outputs": [],
   "source": []
  },
  {
   "cell_type": "code",
   "execution_count": 18,
   "metadata": {},
   "outputs": [],
   "source": [
    "def sim(mangos):\n",
    "    left_over = mangos\n",
    "    males = 1800\n",
    "    bm = 0\n",
    "    females = 2200\n",
    "    bfm = 0\n",
    "    pf = 0.05\n",
    "    pm = 0.03\n",
    "    sold = 0\n",
    "    for person in range(males + females):\n",
    "        s = np.random.randint(2)#random sex\n",
    "        # 0 is male, 1 is female\n",
    "        if bm == males:\n",
    "            s = 1\n",
    "        elif bfm == females:\n",
    "            s = 0\n",
    "        p = np.random.random()\n",
    "        \n",
    "        if left_over > 0:\n",
    "            if s == 0 and bm < males and p <= pm:\n",
    "                sold +=1\n",
    "                bm += 1\n",
    "                left_over -=1\n",
    "            elif s == 1 and bfm < females and p <= pf:\n",
    "                sold +=1\n",
    "                bfm += 1\n",
    "                left_over -=1\n",
    "                \n",
    "    return left_over"
   ]
  },
  {
   "cell_type": "code",
   "execution_count": 17,
   "metadata": {},
   "outputs": [],
   "source": [
    "def profit(mangos, leftover):\n",
    "#     capital = mangos*8\n",
    "#     sold = (mangos-leftover)*20\n",
    "#     pf = sold - capital\n",
    "#     return pf\n",
    "    return (mangos-leftover)*12"
   ]
  },
  {
   "cell_type": "code",
   "execution_count": 8,
   "metadata": {},
   "outputs": [],
   "source": [
    "# mangos = 1000\n",
    "# days = 1000\n",
    "# xs = [i for i in range(days)]\n",
    "# ys = [sim(mangos) for x in xs]\n",
    "# plt.plot(xs, ys)"
   ]
  },
  {
   "cell_type": "code",
   "execution_count": 22,
   "metadata": {},
   "outputs": [],
   "source": [
    "b_mango = 1000\n",
    "b_leftover = sim(b_mango)\n",
    "b_profit = profit(b_mango, b_leftover)\n",
    "\n",
    "for i in range(2000):\n",
    "    tmp_mango = np.random.randint(b_mango)\n",
    "#     print(tmp_mango)\n",
    "    tmp_leftover = sim(tmp_mango)\n",
    "    tmp_profit = profit(tmp_mango, tmp_leftover)\n",
    "    \n",
    "    if b_profit < tmp_profit:\n",
    "        b_mango = tmp_mango\n",
    "        b_leftover = tmp_leftover\n",
    "        b_profit = tmp_profit"
   ]
  },
  {
   "cell_type": "code",
   "execution_count": 23,
   "metadata": {},
   "outputs": [
    {
     "name": "stdout",
     "output_type": "stream",
     "text": [
      "43\n",
      "516\n"
     ]
    }
   ],
   "source": [
    "print(b_mango)\n",
    "print(b_profit)"
   ]
  },
  {
   "cell_type": "code",
   "execution_count": null,
   "metadata": {},
   "outputs": [],
   "source": []
  },
  {
   "cell_type": "code",
   "execution_count": null,
   "metadata": {},
   "outputs": [],
   "source": []
  },
  {
   "cell_type": "markdown",
   "metadata": {},
   "source": [
    "#### 4) Blackjack"
   ]
  },
  {
   "cell_type": "markdown",
   "metadata": {},
   "source": [
    "Let us consider a simplified game of Blackjack. The game is a two-player game: dealer vs player. The goal of the game is get the sum of the card closest to but not over 21.\n",
    "\n",
    "The cards are counted as follows\n",
    "\n",
    "1. 2,3,4,5,6,7,8,9 are counted for the number on the card\n",
    "2. J,Q,K are counted as 10\n",
    "3. A are counted as either 1 or 11. Whichever one that gets us closer but not over 21.\n",
    "\n",
    "Here are some example\n",
    "\n",
    "1. 2, J has the sum of 2+10=12\n",
    "2. J Q has the sum of 10+10 = 10\n",
    "3. J A has the sum of 10+11 = 21\n",
    "4. A 2 J has the sum of 1 + 2 + 10 = 13 (Ace here counts as one since 11 will make the sum over 21)\n",
    "\n",
    "Here is how the game works:\n",
    "\n",
    "1. At the beginning each player gets two cards.\n",
    "2. If one player got 21 with that two cards, that player wins. If both players got 21 with the two cards then it's a draw.\n",
    "3. The player start first. The player can choose to stop or draw more cards for a chance to improve his/her hand. For this problem we will only consider the algorithm that if the player hand is strictly less than 17 he will draw. If the player has 17 or more, he/will keep drawing until the hand he/she has is 17 or more.\n",
    "4. If after any draw, the player has more than 21. This is called busted. Once the player is busted the player lose the game immediately.\n",
    "5. If the player stop drawing, and the dealer will start drawing with the same algorithm explained in 3. That is if the dealer has the sum of less than 17 the dealer will keep drawing until his hand is more than 17.\n",
    "6. If the dealer is busted, the dealer lose.(Note that if the player is busted, the dealer wins immediately regardless of the result from dealer's draw)\n",
    "7. If the dealer is not busted, then the sum of player hands and dealer hand are compared. Whoever got the higher number wins.\n",
    "\n",
    "**Your task**: Suppose we are playing this game with infinite amount of card deck. This means that the next card we draw is independent of the cards that are already out. *Calculate the probability that the player wins*."
   ]
  },
  {
   "cell_type": "code",
   "execution_count": 11,
   "metadata": {},
   "outputs": [],
   "source": [
    "def draw():\n",
    "    return np.random.choice([2,3,4,5,6,7,8,9,10,10,10,10,1])\n",
    "\n",
    "def calscore(hand):\n",
    "    score = 0\n",
    "    one = 0\n",
    "    for c in hand:\n",
    "        if c == 1:\n",
    "            one+=1\n",
    "        else:\n",
    "            score += c\n",
    "    for i in range(one):\n",
    "\n",
    "        if score+11 <= 21:\n",
    "            score += 11\n",
    "        else:\n",
    "            score +=1\n",
    "    return score\n",
    "         \n",
    "def isplayerWin():\n",
    "    player_hand = [draw(), draw()]\n",
    "    pscore = calscore(player_hand)\n",
    "    \n",
    "    while(pscore < 17):\n",
    "        player_hand.append(draw())\n",
    "        pscore = calscore(player_hand)\n",
    "    if pscore > 21:\n",
    "        return 0 #lose\n",
    "    d_hand = [draw(), draw()]\n",
    "    dscore = calscore(d_hand)\n",
    "    \n",
    "    while(dscore < 17):\n",
    "        d_hand.append(draw())\n",
    "        dscore = calscore(d_hand)\n",
    "    if dscore > 21:\n",
    "        return 1 #win\n",
    "    \n",
    "    if pscore > dscore:\n",
    "        return 1\n",
    "    else:\n",
    "        return 0   "
   ]
  },
  {
   "cell_type": "code",
   "execution_count": 12,
   "metadata": {},
   "outputs": [
    {
     "name": "stdout",
     "output_type": "stream",
     "text": [
      "0.408695\n"
     ]
    }
   ],
   "source": [
    "pwin = 0\n",
    "n = 200000\n",
    "for i in range(n):\n",
    "    result = isplayerWin()\n",
    "    if result == 1:\n",
    "        pwin+= 1\n",
    "prob = pwin/n\n",
    "print(prob)"
   ]
  },
  {
   "cell_type": "markdown",
   "metadata": {},
   "source": [
    "#### 5) Travelling Salesman Problem.\n",
    "\n",
    "This problem concerns solving a famouse NP problem called Traveling salesman problem. Here is the prolem:\n",
    "\n",
    "Consider a salesman who wants to travel to every city with minimum total cost and go back to the original city. Going from one city to another city has cost associtated with it.\n",
    "\n",
    "Suppose there are 4 cities $\\{c_1, c_2, c_3, c_4\\}$ and the ticket price from going from city $i$ to city $j$ is $T_{ij}$. The tour of the four cities can be represented as a permutation. For example, the strategy that visit the four cities and going back to the original in the following order\n",
    "\n",
    "\n",
    "$$c_2 \\to c_3 \\to c_1 \\to c_4 \\to c_2$$\n",
    "\n",
    "\n",
    "can be represented with the list\n",
    "\n",
    "\n",
    "$$L = [2, 3, 1, 4]$$\n",
    "\n",
    "\n",
    "and the cost associated with this trip is given by the sum of the travel cost of one to the next and from the end to the beginning\n",
    "\n",
    "\n",
    "$$ \\text{Cost}(L) = T_{23} + T_{31} + T_{14} + T_{42}$$\n",
    "\n",
    "This is an NP problem since we need to search over the space of $N!$ trips where $N$ is the number of cities. If we try to do a brute force search it will take way too long.\n",
    "\n",
    "**Your Task** Solve this problem using hill climbing/ simulated annealing for the 10 cities where the cost for going from city $i$ to city $j$ is given in the matrix T$ $below.\n",
    "\n",
    "**Hint**: The move you can make to get the next tour from previous tour is to pick two numbers from the old tour and swap them.\n",
    "\n",
    "See wiki for more info regarding this problem."
   ]
  },
  {
   "cell_type": "code",
   "execution_count": 13,
   "metadata": {},
   "outputs": [
    {
     "name": "stdout",
     "output_type": "stream",
     "text": [
      "10\n"
     ]
    }
   ],
   "source": [
    "np.random.seed(79)\n",
    "n_city = 10\n",
    "T = (np.random.randn(n_city, n_city)+1)**2\n",
    "print(len(T))"
   ]
  },
  {
   "cell_type": "code",
   "execution_count": 14,
   "metadata": {},
   "outputs": [],
   "source": [
    "def score(order,T):\n",
    "    score = 0\n",
    "    for i in range(10):\n",
    "        ci = order[i]\n",
    "        \n",
    "        if (i == 9):\n",
    "            score+= T[ci][order[0]]\n",
    "        else:\n",
    "            ci1 = order[i+1]\n",
    "            score+= T[ci][ci1]\n",
    "    return score\n",
    "\n",
    "def swich(order):\n",
    "    i = np.random.randint(10)\n",
    "    j = np.random.randint(10)\n",
    "    tmp = order[i]\n",
    "    order[i] = order[j]\n",
    "    order[j] = tmp\n",
    "    return order"
   ]
  },
  {
   "cell_type": "code",
   "execution_count": 15,
   "metadata": {},
   "outputs": [],
   "source": [
    "btravel_order = [i for i in range(10)]\n",
    "bscore = score(btravel_order,T)\n",
    "for i in range(100000):\n",
    "    tmp_order = swich(btravel_order)\n",
    "    tmp_score = score(tmp_order, T)\n",
    "    if tmp_score < bscore:\n",
    "        btravel_order = np.copy(tmp_order)\n",
    "        bscore = tmp_score"
   ]
  },
  {
   "cell_type": "code",
   "execution_count": 16,
   "metadata": {},
   "outputs": [
    {
     "name": "stdout",
     "output_type": "stream",
     "text": [
      "[ 8 10  4  7  3  6  1  9  2  5]\n",
      "2.20220116597\n"
     ]
    }
   ],
   "source": [
    "print(btravel_order +1)\n",
    "print(bscore)"
   ]
  },
  {
   "cell_type": "code",
   "execution_count": null,
   "metadata": {},
   "outputs": [],
   "source": []
  },
  {
   "cell_type": "code",
   "execution_count": null,
   "metadata": {},
   "outputs": [],
   "source": []
  }
 ],
 "metadata": {
  "kernelspec": {
   "display_name": "Python 3",
   "language": "python",
   "name": "python3"
  },
  "language_info": {
   "codemirror_mode": {
    "name": "ipython",
    "version": 3
   },
   "file_extension": ".py",
   "mimetype": "text/x-python",
   "name": "python",
   "nbconvert_exporter": "python",
   "pygments_lexer": "ipython3",
   "version": "3.6.3"
  }
 },
 "nbformat": 4,
 "nbformat_minor": 1
}
