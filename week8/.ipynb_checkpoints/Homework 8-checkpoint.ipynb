{
 "cells": [
  {
   "cell_type": "code",
   "execution_count": 1,
   "metadata": {},
   "outputs": [],
   "source": [
    "%matplotlib inline\n",
    "import numpy as np\n",
    "from matplotlib import pyplot as plt\n",
    "import math"
   ]
  },
  {
   "cell_type": "markdown",
   "metadata": {},
   "source": [
    "##Random Methods"
   ]
  },
  {
   "cell_type": "markdown",
   "metadata": {},
   "source": [
    "#### 1) Psuedo random number generator.\n",
    "\n",
    "Write a random number generator that gives random integer from 1 to 5. Make sure the cycle length is greater than 30."
   ]
  },
  {
   "cell_type": "code",
   "execution_count": null,
   "metadata": {
    "collapsed": true
   },
   "outputs": [],
   "source": [
    "a = 3\n",
    "b = 7\n",
    "x0 = 10\n",
    "x= x0\n",
    "n = 0\n",
    "while n < 30:\n",
    "    x = (a*x+b)%(2<<31)\n",
    "    n+=1"
   ]
  },
  {
   "cell_type": "markdown",
   "metadata": {},
   "source": [
    "#### 2)  Monte Carlo Integral.\n",
    "\n",
    "Evaluate the following integral\n",
    "\n",
    "$$\\iiint \\limits_C e^{-2x^2y^3z^4} \\; dx \\; dy \\; dz $$\n",
    "\n",
    "where $C$ is a sphere of radius 2 centered at (1,2,3)."
   ]
  },
  {
   "cell_type": "code",
   "execution_count": null,
   "metadata": {
    "collapsed": true
   },
   "outputs": [],
   "source": []
  },
  {
   "cell_type": "markdown",
   "metadata": {},
   "source": [
    "#### 3) Coffee Shop (You can pick one to do either problem 3 or problem 4)"
   ]
  },
  {
   "cell_type": "markdown",
   "metadata": {},
   "source": [
    "Let us consider the fruit shop in MUIC canteen. On each day the shop owner needs to figure out how many mangoes to buy on each day.\n",
    "\n",
    "MUIC has about 4000 students: 2200 female and 1800 male.\n",
    "The probability that a female student will buy mangoes on a day is about 5% and for male student is 3%.\n",
    "\n",
    "Each mango costs the shop 8 Baht a piece. The shop sell it for 20 Baht making 12 Baht profit. To make the problem simple we will assume two things.\n",
    "\n",
    " 1. Mango last only one day which means any left over mango worth 0 Baht at the end of the day.\n",
    " 2. To make the problem simple let us ignore the fixed cost such as rent and labor.\n",
    " 3. The shop owner cannot refill mango during the day. If the shop ran out of mango, and next customer comes in. The shop can't make the sale.\n",
    " \n",
    "The shopowner wants to maximize the profit. If the shop owner take the risk by buying a lot he will not be short of mango on a good day, but on a bad day he/she will lose a lot. The shop owner can play safe by buying very few mango so he/she don't lose too much on a bad day, but he/she will miss out a lot of money on a good day.\n",
    "\n",
    "Your task is to figure out how many mangoes the shop owner should buy.\n",
    "\n",
    "Hint: Use simulation and make a useful plot."
   ]
  },
  {
   "cell_type": "code",
   "execution_count": null,
   "metadata": {
    "collapsed": true
   },
   "outputs": [],
   "source": []
  },
  {
   "cell_type": "markdown",
   "metadata": {},
   "source": [
    "#### 4) Blackjack"
   ]
  },
  {
   "cell_type": "markdown",
   "metadata": {},
   "source": [
    "Let us consider a simplified game of Blackjack. The game is a two-player game: dealer vs player. The goal of the game is get the sum of the card closest to but not over 21.\n",
    "\n",
    "The cards are counted as follows\n",
    "\n",
    "1. 2,3,4,5,6,7,8,9 are counted for the number on the card\n",
    "2. J,Q,K are counted as 10\n",
    "3. A are counted as either 1 or 11. Whichever one that gets us closer but not over 21.\n",
    "\n",
    "Here are some example\n",
    "\n",
    "1. 2, J has the sum of 2+10=12\n",
    "2. J Q has the sum of 10+10 = 10\n",
    "3. J A has the sum of 10+11 = 21\n",
    "4. A 2 J has the sum of 1 + 2 + 10 = 13 (Ace here counts as one since 11 will make the sum over 21)\n",
    "\n",
    "Here is how the game works:\n",
    "\n",
    "1. At the beginning each player gets two cards.\n",
    "2. If one player got 21 with that two cards, that player wins. If both players got 21 with the two cards then it's a draw.\n",
    "3. The player start first. The player can choose to stop or draw more cards for a chance to improve his/her hand. For this problem we will only consider the algorithm that if the player hand is strictly less than 17 he will draw. If the player has 17 or more, he/will keep drawing until the hand he/she has is 17 or more.\n",
    "4. If after any draw, the player has more than 21. This is called busted. Once the player is busted the player lose the game immediately.\n",
    "5. If the player stop drawing, and the dealer will start drawing with the same algorithm explained in 3. That is if the dealer has the sum of less than 17 the dealer will keep drawing until his hand is more than 17.\n",
    "6. If the dealer is busted, the dealer lose.(Note that if the player is busted, the dealer wins immediately regardless of the result from dealer's draw)\n",
    "7. If the dealer is not busted, then the sum of player hands and dealer hand are compared. Whoever got the higher number wins.\n",
    "\n",
    "**Your task**: Suppose we are playing this game with infinite amount of card deck. This means that the next card we draw is independent of the cards that are already out. *Calculate the probability that the player wins*."
   ]
  },
  {
   "cell_type": "code",
   "execution_count": null,
   "metadata": {
    "collapsed": true
   },
   "outputs": [],
   "source": []
  },
  {
   "cell_type": "markdown",
   "metadata": {},
   "source": [
    "#### 5) Travelling Salesman Problem.\n",
    "\n",
    "This problem concerns solving a famouse NP problem called Traveling salesman problem. Here is the prolem:\n",
    "\n",
    "Consider a salesman who wants to travel to every city with minimum total cost and go back to the original city. Going from one city to another city has cost associtated with it.\n",
    "\n",
    "Suppose there are 4 cities $\\{c_1, c_2, c_3, c_4\\}$ and the ticket price from going from city $i$ to city $j$ is $T_{ij}$. The tour of the four cities can be represented as a permutation. For example, the strategy that visit the four cities and going back to the original in the following order\n",
    "\n",
    "\n",
    "$$c_2 \\to c_3 \\to c_1 \\to c_4 \\to c_2$$\n",
    "\n",
    "\n",
    "can be represented with the list\n",
    "\n",
    "\n",
    "$$L = [2, 3, 1, 4]$$\n",
    "\n",
    "\n",
    "and the cost associated with this trip is given by the sum of the travel cost of one to the next and from the end to the beginning\n",
    "\n",
    "\n",
    "$$ \\text{Cost}(L) = T_{23} + T_{31} + T_{14} + T_{42}$$\n",
    "\n",
    "This is an NP problem since we need to search over the space of $N!$ trips where $N$ is the number of cities. If we try to do a brute force search it will take way too long.\n",
    "\n",
    "**Your Task** Solve this problem using hill climbing/ simulated annealing for the 10 cities where the cost for going from city $i$ to city $j$ is given in the matrix T$ $below.\n",
    "\n",
    "**Hint**: The move you can make to get the next tour from previous tour is to pick two numbers from the old tour and swap them.\n",
    "\n",
    "See wiki for more info regarding this problem."
   ]
  },
  {
   "cell_type": "code",
   "execution_count": 8,
   "metadata": {},
   "outputs": [
    {
     "name": "stdout",
     "output_type": "stream",
     "text": [
      "[[  5.36551819e+00   1.14359131e+00   3.62920324e-02   1.00531801e+00\n",
      "    2.09386158e-01   3.89074153e+00   2.62736812e+00   2.40298591e+00\n",
      "    3.44164131e+00   2.44568684e+00]\n",
      " [  9.52936482e-01   6.05261424e+00   2.85784864e+00   1.44510566e+01\n",
      "    1.56741697e-02   1.62122064e-01   6.19318312e-02   2.25966338e-02\n",
      "    3.49750434e-01   9.93346259e-02]\n",
      " [  5.57008430e-01   1.02204732e+00   2.79947004e+00   3.14812188e+00\n",
      "    1.13888016e+00   2.13477278e-02   4.00448219e-02   4.32240531e+00\n",
      "    8.88523687e-04   2.59439790e+00]\n",
      " [  6.43633398e-01   4.54214569e+00   1.49370006e-01   3.40206057e+00\n",
      "    8.16949414e-04   6.51237637e+00   2.03806148e-01   2.74630722e-01\n",
      "    3.17146814e+00   7.97775945e-01]\n",
      " [  1.24894119e-01   4.23053518e+00   2.73329253e-02   7.19363057e+00\n",
      "    2.27655107e+00   3.66615197e-01   2.71824111e+00   3.35428656e+00\n",
      "    1.35610634e+00   3.94427165e+00]\n",
      " [  2.54997857e-01   1.38007051e+00   2.49528041e+00   2.62291057e+00\n",
      "    9.33013676e-01   2.55151767e+00   3.68474615e+00   4.65728319e+00\n",
      "    3.59807496e-01   1.32420029e+00]\n",
      " [  3.69624219e-01   4.20975361e+00   7.06945916e-01   1.73758305e+01\n",
      "    4.86423547e+00   2.88745430e+00   2.57342000e-01   3.04862814e+00\n",
      "    8.05944698e+00   6.78128963e-01]\n",
      " [  3.04341865e+00   6.44593017e-02   2.50679424e+00   3.72341778e+00\n",
      "    3.14451917e+00   1.60314995e+00   1.49872932e-01   7.96552354e-01\n",
      "    6.38123981e-01   9.99059653e-01]\n",
      " [  7.29842798e-02   5.29498548e+00   3.35965573e+00   6.20622365e+00\n",
      "    1.29168908e-01   2.99280911e+00   1.11510354e+00   2.75702506e+00\n",
      "    6.37093074e+00   1.95018861e-01]\n",
      " [  6.02410559e+00   5.12344371e+00   6.86117354e+00   3.39886955e+00\n",
      "    4.94014002e+00   7.60602524e-01   4.00721542e-02   9.65438423e-02\n",
      "    1.52080983e-02   1.88103191e+01]]\n"
     ]
    }
   ],
   "source": [
    "np.random.seed(79)\n",
    "n_city = 10\n",
    "T = (np.random.randn(n_city, n_city)+1)**2\n",
    "print T"
   ]
  },
  {
   "cell_type": "code",
   "execution_count": null,
   "metadata": {
    "collapsed": true
   },
   "outputs": [],
   "source": []
  },
  {
   "cell_type": "code",
   "execution_count": null,
   "metadata": {
    "collapsed": true
   },
   "outputs": [],
   "source": []
  },
  {
   "cell_type": "code",
   "execution_count": null,
   "metadata": {
    "collapsed": true
   },
   "outputs": [],
   "source": []
  },
  {
   "cell_type": "code",
   "execution_count": null,
   "metadata": {
    "collapsed": true
   },
   "outputs": [],
   "source": []
  }
 ],
 "metadata": {
  "kernelspec": {
   "display_name": "Python 3",
   "language": "python",
   "name": "python3"
  },
  "language_info": {
   "codemirror_mode": {
    "name": "ipython",
    "version": 3
   },
   "file_extension": ".py",
   "mimetype": "text/x-python",
   "name": "python",
   "nbconvert_exporter": "python",
   "pygments_lexer": "ipython3",
   "version": "3.6.3"
  }
 },
 "nbformat": 4,
 "nbformat_minor": 1
}
