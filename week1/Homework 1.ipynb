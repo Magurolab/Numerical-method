{
 "cells": [
  {
   "cell_type": "code",
   "execution_count": 1,
   "metadata": {},
   "outputs": [],
   "source": [
    "%matplotlib inline\n",
    "import numpy as np\n",
    "import math\n",
    "from matplotlib import pyplot as plt"
   ]
  },
  {
   "cell_type": "markdown",
   "metadata": {},
   "source": [
    "### Homework 1\n",
    "\n",
    "Try to do it by hands first(at least for the first term) then check with/ use wolframalpha.\n",
    "\n",
    "Find 3-rd derivative: just type ` d^3/dx^3 tan(x)` or `d^3/dx^3 tan(x) at x =10`\n",
    "\n",
    "If you need to taylor series, just type `taylor cos(x) at x = 0`.\n",
    "\n"
   ]
  },
  {
   "cell_type": "markdown",
   "metadata": {},
   "source": [
    "1) Plot $\\cos(x)$ from $-\\pi$ to $\\pi$ along with the Taylor approximation using (1,2,3,4) terms. I want 5 lines on the same graph."
   ]
  },
  {
   "cell_type": "code",
   "execution_count": 2,
   "metadata": {},
   "outputs": [
    {
     "data": {
      "text/plain": [
       "<matplotlib.legend.Legend at 0x10f3f6cc0>"
      ]
     },
     "execution_count": 2,
     "metadata": {},
     "output_type": "execute_result"
    },
    {
     "data": {
      "image/png": "[encoded data removed]",
      "text/plain": [
       "<matplotlib.figure.Figure at 0x10f371f98>"
      ]
     },
     "metadata": {},
     "output_type": "display_data"
    }
   ],
   "source": [
    "def fac(x):\n",
    "    return math.factorial(x)\n",
    "xs = np.linspace(-np.pi,np.pi)\n",
    "yys = [np.cos(x) for x in xs]\n",
    "\n",
    "\n",
    "def t1(x):\n",
    "    return 1 \n",
    "def t2(x):\n",
    "    return 1 - x**2/fac(2)\n",
    "def t3(x):\n",
    "    return 1 - x**2/fac(2) + x**4/fac(4)\n",
    "def t4(x):\n",
    "    return 1- x**2/fac(2)+ x**4/fac(4) - x**5/fac(6)\n",
    "\n",
    "def t5(x):\n",
    "    return 1- x**2/fac(2)+ x**4/fac(4) - x**6/fac(6) + x**8/fac(8)\n",
    "\n",
    "plt.plot(xs, [t1(x) for x in xs], color ='grey' ,label = 't1')\n",
    "plt.plot(xs, [t2(x) for x in xs], color = 'blue',label = 't2')\n",
    "plt.plot(xs, [t3(x) for x in xs], color = 'green',label = 't3')\n",
    "plt.plot(xs, [t4(x) for x in xs], color = 'pink',label = 't4')\n",
    "plt.plot(xs, [t5(x) for x in xs], color = 'black', label = 't5')\n",
    "plt.plot(xs, yys ,color = 'purple',label = 'cos')\n",
    "\n",
    "plt.grid()\n",
    "plt.legend()"
   ]
  },
  {
   "cell_type": "markdown",
   "metadata": {},
   "source": [
    "1.1) If we estimate $\\cos(0.1)$ using 4 **non-zero** terms, what is the bound on the **truncation error**."
   ]
  },
  {
   "cell_type": "code",
   "execution_count": 3,
   "metadata": {},
   "outputs": [
    {
     "name": "stdout",
     "output_type": "stream",
     "text": [
      "0.995004165278\n",
      "2.48015873016e-13\n",
      "\n",
      "0.995004165278\n",
      "0.995004165278\n"
     ]
    }
   ],
   "source": [
    "# the term that is Sin(0)=0\n",
    "x = 0.1\n",
    "c = 0\n",
    "xi = np.abs(1)\n",
    "four_nonzero = (1- x**2/fac(2)+ x**4/fac(4) - x**6/fac(6)*np.cos(c))\n",
    "error_term = (x**8/fac(8))*np.cos(c)\n",
    "\n",
    "print(four_nonzero)\n",
    "print(error_term)\n",
    "\n",
    "print()\n",
    "\n",
    "print (four_nonzero + abs(error_term))\n",
    "print(four_nonzero - abs(error_term))"
   ]
  },
  {
   "cell_type": "markdown",
   "metadata": {},
   "source": [
    "1.2) How many **non-zero** terms do we need to calculate $\\cos(0.1)$ such that the bound on the **truncation error** is less than $10^{-7}$"
   ]
  },
  {
   "cell_type": "code",
   "execution_count": 4,
   "metadata": {},
   "outputs": [
    {
     "name": "stdout",
     "output_type": "stream",
     "text": [
      "3\n"
     ]
    }
   ],
   "source": [
    "## NOT SURE\n",
    "x = 0.1\n",
    "xi = np.abs(1)\n",
    "c = 0\n",
    "term =0 # because the first error term is1\n",
    "error = (x-c)**1/fac(1) #*(f(c))\n",
    "\n",
    "time = 0\n",
    "# for term in range(2,100,2):\n",
    "#     time+=1\n",
    "#     error = (x-c)**term/fac(term)\n",
    "#     print('{0:.16f}'.format(error))\n",
    "#     if(error < 1e-7):\n",
    "#         print(term)\n",
    "#         break\n",
    "    \n",
    "    \n",
    "while(error > 1e-7):\n",
    "    time+=1\n",
    "    term+=2\n",
    "    error = (x-c)**term/fac(term)\n",
    "    \n",
    "print(time)"
   ]
  },
  {
   "cell_type": "markdown",
   "metadata": {},
   "source": [
    "2) Plot $\\ln (1+x)$ from $-0.5$ to $0.5$ along with the Taylor approximation using (1,2,3,4) terms. I want 5 lines on the same plot."
   ]
  },
  {
   "cell_type": "code",
   "execution_count": 5,
   "metadata": {},
   "outputs": [
    {
     "data": {
      "text/plain": [
       "<matplotlib.legend.Legend at 0x1064ad5c0>"
      ]
     },
     "execution_count": 5,
     "metadata": {},
     "output_type": "execute_result"
    },
    {
     "data": {
      "image/png": "[encoded data removed]",
      "text/plain": [
       "<matplotlib.figure.Figure at 0x106411fd0>"
      ]
     },
     "metadata": {},
     "output_type": "display_data"
    }
   ],
   "source": [
    "xs = np.linspace(-0.5, 0.5)\n",
    "def ln(x):\n",
    "    return np.log(x)\n",
    "\n",
    "ys = [ln(1+x) for x in xs]\n",
    "c =0\n",
    "def t1(x):\n",
    "    return (x-c)/(c+1)\n",
    "def t2(x):\n",
    "    return (x-c)/(c+1) - (x-c)**2/fac(2)*(c+1)**2\n",
    "def t3(x):\n",
    "    return (x-c)/(c+1) - (x-c)**2/fac(2)*(c+1)**2 + 2*(x-c)**3/(fac(3)*(c+1)**3)\n",
    "def t4(x):\n",
    "    return (x-c)/(c+1) - (x-c)**2/fac(2)*(c+1)**2 + 2*(x-c)**3/(fac(3)*(c+1)**3)- 6*(x-c)**4/(fac(4)*(c+1)**4)\n",
    "#Simplify version\n",
    "# def t1(x):\n",
    "#     return x\n",
    "# def t2(x):\n",
    "#     return x - (x**2)/2\n",
    "# def t3(x):\n",
    "#     return x - (x**2)/2 + (x**3)/3\n",
    "# def t4(x):\n",
    "#     return x - (x**2)/2 + (x**3)/3 - (x**4)/4\n",
    "\n",
    "plt.plot(xs,ys, label = 'ln(x)')\n",
    "plt.plot(xs,[t1(x) for x in xs], label = 't1')\n",
    "plt.plot(xs,[t2(x) for x in xs], label = 't2')\n",
    "plt.plot(xs,[t3(x) for x in xs], label = 't3')\n",
    "plt.plot(xs,[t4(x) for x in xs], label = 't4')\n",
    "\n",
    "\n",
    "plt.grid()\n",
    "plt.legend()"
   ]
  },
  {
   "cell_type": "markdown",
   "metadata": {},
   "source": [
    "2.1)If we calculate $\\ln(1.5)$ using 3 **non-zero** terms, what is the bound on the **truncation error**."
   ]
  },
  {
   "cell_type": "code",
   "execution_count": 6,
   "metadata": {},
   "outputs": [
    {
     "name": "stdout",
     "output_type": "stream",
     "text": [
      "0.405465108108\n",
      "0.4166666666666667 +- 0.015625\n"
     ]
    }
   ],
   "source": [
    "x = 0.5 # since my fucntion is ln(1+x)\n",
    "c = 0\n",
    "def t3(x):\n",
    "    return (x-c)/(c+1) - (x-c)**2/fac(2)*(c+1)**2 + 2*(x-c)**3/(fac(3)*(c+1)**3)\n",
    "\n",
    "## xi = range(c, x), so the min is c, and the max is x\n",
    "## since x is the maximum value, my xi in this case is\n",
    "xi = 0\n",
    "\n",
    "# error= -6*(x-c)**3/(fac(4)*(xi+1)**4)\n",
    "error = x**4/4\n",
    "\n",
    "print(ln(1.5))\n",
    "\n",
    "print(t3(0.5), \"+- {}\".format(np.abs(error)))\n",
    "\n"
   ]
  },
  {
   "cell_type": "markdown",
   "metadata": {},
   "source": [
    "2.2)How many **non-zero** terms do we need to calculate $\\ln(1.5)$ such that the bound on **truncation error** is less than $10^{-7}$. Be sure to justify the maximum of $f^{(n+1)}(\\xi)$ term."
   ]
  },
  {
   "cell_type": "code",
   "execution_count": 7,
   "metadata": {},
   "outputs": [
    {
     "name": "stdout",
     "output_type": "stream",
     "text": [
      "20\n",
      "4.76837158203125e-08\n",
      "0.0\n",
      "0.405465108108\n"
     ]
    }
   ],
   "source": [
    "##NOT SURE\n",
    "x = 0.5\n",
    "xi = 1## เพราะว่าเป็นตัวหาร\n",
    "c = 0\n",
    "\n",
    "term = 1\n",
    "error = (x-c)**term/term*(\n",
    "    xi+1)**term\n",
    "\n",
    "while(error > 1e-7):\n",
    "    term+=1\n",
    "    error = (x-c)**term/term*(xi)**term\n",
    "    \n",
    "print(term)\n",
    "print (error)\n",
    "print(ln(1))\n",
    "print(ln(1.5))\n",
    "\n",
    "\n",
    "\n",
    "\n",
    "    "
   ]
  },
  {
   "cell_type": "markdown",
   "metadata": {},
   "source": [
    "3) Notice that $\\arctan(1) = \\pi/4$ , this means we can calculate $\\pi$ by using $4 \\times \\arctan(1)$\n",
    "\n",
    "So this means that if we find Taylor series expansion of $\\arctan(x)$ around $x=0$, then we can calculate $\\pi$ to any accuracy we want."
   ]
  },
  {
   "cell_type": "markdown",
   "metadata": {},
   "source": [
    "3.1) Find taylor expansion of $\\arctan$ for 3 **non-zero** terms. If you forgot,\n",
    "\n",
    "$$\n",
    "\\frac{d}{dx} \\arctan(x) = \\frac{1}{1+x^2}\n",
    "$$"
   ]
  },
  {
   "cell_type": "code",
   "execution_count": 8,
   "metadata": {},
   "outputs": [
    {
     "name": "stdout",
     "output_type": "stream",
     "text": [
      "3.466666666666667\n"
     ]
    }
   ],
   "source": [
    "xs = []\n",
    "c = 0 # expand around 0\n",
    "def t3(x):\n",
    "    return x - x**3/3 + x**5/5\n",
    "\n",
    "print(4*t3(1))"
   ]
  },
  {
   "cell_type": "markdown",
   "metadata": {},
   "source": [
    "3.2) Guess the rest of the terms"
   ]
  },
  {
   "cell_type": "code",
   "execution_count": 9,
   "metadata": {},
   "outputs": [],
   "source": [
    "def guessterm(x,t): # t is 1,3,5,7,...\n",
    "    return x**t/t"
   ]
  },
  {
   "cell_type": "markdown",
   "metadata": {},
   "source": [
    "3.3) Calculate $\\pi$ using taylor approximation for 100 **non-zero** terms. (Note I changed this to 100 terms so you must write some sort of for loop to do it)."
   ]
  },
  {
   "cell_type": "code",
   "execution_count": 11,
   "metadata": {},
   "outputs": [
    {
     "name": "stdout",
     "output_type": "stream",
     "text": [
      "3.1315929035585537\n"
     ]
    }
   ],
   "source": [
    "x=1\n",
    "pre_pi = x\n",
    "run = 1 #count non-zero terms\n",
    "term = 1 #t\n",
    "while(run< 100):\n",
    "    run+=1\n",
    "    term+=2# the number of t need to be odd number\n",
    "    if(run%2 ==0):\n",
    "        pre_pi-=guessterm(x, term)\n",
    "    else:\n",
    "        pre_pi+=guessterm(x, term)\n",
    "        \n",
    "print(4*pre_pi)"
   ]
  },
  {
   "cell_type": "markdown",
   "metadata": {},
   "source": [
    "4) The purpose of this problem is to make sure you know that the bound on $f^{(n+1)}(\\xi)$ after all the cancellation is **NOT** necessarily 1 **NOR** does it have to look the same as the next term in the series.\n",
    "\n",
    "4.1)Find the first 3 **non-zero** terms of Taylor series for\n",
    "$$f(x) = \\frac{1}{1-x}$$"
   ]
  },
  {
   "cell_type": "code",
   "execution_count": 7,
   "metadata": {},
   "outputs": [],
   "source": [
    "def t3(x):## wolfam alpha\n",
    "    return 1 + x + x**2"
   ]
  },
  {
   "cell_type": "markdown",
   "metadata": {},
   "source": [
    "4.2) If we estimate $$\\frac{1}{0.8} = \\frac{1}{1-0.2}$$ using the first 3 non-zero terms, what is the bound on the truncation error. Be careful about evaluating the bound for $f^{(n+1)}({\\xi})$."
   ]
  },
  {
   "cell_type": "code",
   "execution_count": 8,
   "metadata": {},
   "outputs": [
    {
     "name": "stdout",
     "output_type": "stream",
     "text": [
      "lower bound  1.232\n",
      "upper bound 1.248\n",
      "error  0.008\n"
     ]
    }
   ],
   "source": [
    "x = 0.2\n",
    "val= (t3(x))\n",
    "error = np.abs(x**3)\n",
    "\n",
    "print(\"lower bound \", val - error)\n",
    "print('upper bound', val + error )\n",
    "print (\"error \",error)\n"
   ]
  },
  {
   "cell_type": "markdown",
   "metadata": {},
   "source": [
    "5) (Optional) When Taylor series sort of doesn't work. \n",
    "$$\n",
    "f(x) = \\begin{cases}\n",
    "e^{-1/x^2} & x \\ne 0 \\\\\n",
    "0 & x = 0\n",
    "\\end{cases}\n",
    "$$\n",
    "\n",
    "Find taylor series expansion of this function around $x=0$ for 5 terms. Take the limit carefully.\n",
    "\n",
    "Did you notice something? What's happening? (Plot and Try to calculate the error term to see what is going on)"
   ]
  },
  {
   "cell_type": "code",
   "execution_count": 15,
   "metadata": {},
   "outputs": [],
   "source": [
    "def fac(x):\n",
    "    return math.factorial(x)\n",
    "def f(x):\n",
    "    if(x == 0):\n",
    "        return 0\n",
    "    else:\n",
    "        return np.e**(-1/x**2)"
   ]
  },
  {
   "cell_type": "code",
   "execution_count": 35,
   "metadata": {},
   "outputs": [],
   "source": [
    "c = 0 #expand around 0\n",
    "e = np.e\n",
    "def t1(x):\n",
    "    return 0\n",
    "def t2(x):\n",
    "    if(x==0):\n",
    "        return 0\n",
    "    shit = e**(-1/x**2)\n",
    "    return 2*(shit)*x/x**3\n",
    "def t3(x):\n",
    "    if(x==0):\n",
    "        return 0\n",
    "    shit = e**(-1/x**2)\n",
    "    return 2*(shit)*x/x**3 + shit*(4-6*x**2)*x**2/fac(2)*x**6\n",
    "def t4(x):\n",
    "    if(x==0):\n",
    "        return 0\n",
    "    shit = e**(-1/x**2)\n",
    "    return 2*(shit)*x/x**3 + shit*(4-6*x**2)*x**2/fac(2)*x**6 + 4*shit*(6*x**4-9*x**2+2)*x**3/fac(3)*x**9\n",
    "def t5(x):\n",
    "    if(x==0):\n",
    "        return 0\n",
    "    shit = e**(-1/x**2)\n",
    "    return 2*(shit)*x/x**3 + shit*(4-6*x**2)*x**2/fac(2)*x**6 + 4*shit*(6*x**4-9*x**2+2)*x**3/fac(3)*x**9 + 8*(shit)*(90*x**8 -330*x**6 + 255*x**4-60*x**2+4)*x**4/fac(4)*x**15\n"
   ]
  },
  {
   "cell_type": "code",
   "execution_count": 51,
   "metadata": {},
   "outputs": [
    {
     "data": {
      "text/plain": [
       "<matplotlib.legend.Legend at 0x10776e1d0>"
      ]
     },
     "execution_count": 51,
     "metadata": {},
     "output_type": "execute_result"
    },
    {
     "data": {
      "image/png": "[encoded data removed]",
      "text/plain": [
       "<matplotlib.figure.Figure at 0x1077f9be0>"
      ]
     },
     "metadata": {},
     "output_type": "display_data"
    }
   ],
   "source": [
    "xs = np.linspace(-100, 100, 201)\n",
    "plt.plot(xs, [f(x) for x in xs], label = 'e**(-1/x**2)')\n",
    "plt.plot(xs,[t1(x) for x in xs], label = 't1')\n",
    "\n",
    "\n",
    "\n",
    "plt.grid()\n",
    "plt.legend()"
   ]
  },
  {
   "cell_type": "code",
   "execution_count": 52,
   "metadata": {},
   "outputs": [
    {
     "data": {
      "text/plain": [
       "<matplotlib.legend.Legend at 0x107576630>"
      ]
     },
     "execution_count": 52,
     "metadata": {},
     "output_type": "execute_result"
    },
    {
     "data": {
      "image/png": "[encoded data removed]",
      "text/plain": [
       "<matplotlib.figure.Figure at 0x1074770f0>"
      ]
     },
     "metadata": {},
     "output_type": "display_data"
    }
   ],
   "source": [
    "plt.plot(xs,[t2(x) for x in xs], label = 't2')\n",
    "\n",
    "plt.grid()\n",
    "plt.legend()"
   ]
  },
  {
   "cell_type": "code",
   "execution_count": 53,
   "metadata": {},
   "outputs": [
    {
     "data": {
      "text/plain": [
       "<matplotlib.legend.Legend at 0x1078e4400>"
      ]
     },
     "execution_count": 53,
     "metadata": {},
     "output_type": "execute_result"
    },
    {
     "data": {
      "image/png": "[encoded data removed]",
      "text/plain": [
       "<matplotlib.figure.Figure at 0x1078e4320>"
      ]
     },
     "metadata": {},
     "output_type": "display_data"
    }
   ],
   "source": [
    "plt.plot(xs,[t3(x) for x in xs], label = 't3')\n",
    "\n",
    "plt.grid()\n",
    "plt.legend()"
   ]
  },
  {
   "cell_type": "code",
   "execution_count": 54,
   "metadata": {},
   "outputs": [
    {
     "data": {
      "text/plain": [
       "<matplotlib.legend.Legend at 0x107aedfd0>"
      ]
     },
     "execution_count": 54,
     "metadata": {},
     "output_type": "execute_result"
    },
    {
     "data": {
      "image/png": "[encoded data removed]",
      "text/plain": [
       "<matplotlib.figure.Figure at 0x107849d30>"
      ]
     },
     "metadata": {},
     "output_type": "display_data"
    }
   ],
   "source": [
    "plt.plot(xs,[t4(x) for x in xs], label = 't4')\n",
    "\n",
    "plt.grid()\n",
    "plt.legend()"
   ]
  },
  {
   "cell_type": "code",
   "execution_count": 55,
   "metadata": {},
   "outputs": [
    {
     "data": {
      "text/plain": [
       "<matplotlib.legend.Legend at 0x107c00dd8>"
      ]
     },
     "execution_count": 55,
     "metadata": {},
     "output_type": "execute_result"
    },
    {
     "data": {
      "image/png": "[encoded data removed]",
      "text/plain": [
       "<matplotlib.figure.Figure at 0x107c8f6d8>"
      ]
     },
     "metadata": {},
     "output_type": "display_data"
    }
   ],
   "source": [
    "plt.plot(xs,[t5(x) for x in xs], label = 't5')\n",
    "\n",
    "plt.grid()\n",
    "plt.legend()"
   ]
  },
  {
   "cell_type": "code",
   "execution_count": 50,
   "metadata": {},
   "outputs": [
    {
     "name": "stdout",
     "output_type": "stream",
     "text": [
      "0.735758882343\n",
      "0.367879441171\n",
      "0.245252960781\n",
      "5.02768569601\n"
     ]
    }
   ],
   "source": [
    "x = 1\n",
    "shit = e**(-1/x**2)\n",
    "\n",
    "error_t1 = np.abs(2*(shit)*x/x**3)\n",
    "print(error_t1)\n",
    "\n",
    "error_t2 = np.abs(shit*(4-6*x**2)*x**2/fac(2)*x**6)\n",
    "print(error_t2)\n",
    "\n",
    "error_t3 = np.abs(4*shit*(6*x**4-9*x**2+2)*x**3/fac(3)*x**9)\n",
    "print(error_t3)\n",
    "\n",
    "error_t4 =np.abs(8*(shit)*(90*x**8 -330*x**6 + 255*x**4-60*x**2+4)*x**4/fac(4)*x**15)\n",
    "print(error_t4)"
   ]
  },
  {
   "cell_type": "code",
   "execution_count": null,
   "metadata": {},
   "outputs": [],
   "source": []
  }
 ],
 "metadata": {
  "kernelspec": {
   "display_name": "Python 3",
   "language": "python",
   "name": "python3"
  },
  "language_info": {
   "codemirror_mode": {
    "name": "ipython",
    "version": 3
   },
   "file_extension": ".py",
   "mimetype": "text/x-python",
   "name": "python",
   "nbconvert_exporter": "python",
   "pygments_lexer": "ipython3",
   "version": "3.6.3"
  },
  "toc": {
   "colors": {
    "hover_highlight": "#DAA520",
    "running_highlight": "#FF0000",
    "selected_highlight": "#FFD700"
   },
   "moveMenuLeft": true,
   "nav_menu": {
    "height": "30px",
    "width": "252px"
   },
   "navigate_menu": true,
   "number_sections": false,
   "sideBar": true,
   "threshold": 4,
   "toc_cell": false,
   "toc_section_display": "block",
   "toc_window_display": false
  }
 },
 "nbformat": 4,
 "nbformat_minor": 1
}
