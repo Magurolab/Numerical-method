{
 "cells": [
  {
   "cell_type": "code",
   "execution_count": 2,
   "metadata": {},
   "outputs": [],
   "source": [
    "%matplotlib inline\n",
    "from matplotlib import pyplot as plt\n",
    "import numpy as np\n",
    "import math"
   ]
  },
  {
   "cell_type": "markdown",
   "metadata": {},
   "source": [
    "#### 1) Gaussian Elimination\n",
    "\n",
    "Implement Gaussian Elimination and solve this equation. Your function should look like `solve(A, B)`.  Make sure your code works for arbitary size of square matrix A.\n",
    "\n",
    "$$A x= B$$\n",
    "\n",
    "Let me warn you that despite knowing exactly what to do, this is a debugging nightmare. Try your program on small matrix like $2\\times2$ and $3\\times3$ matrix first. Make sure you get forward elimination working first then try backward substitution. You may also find numpy slicing and broadcast operations in exercise useful.\n",
    "\n",
    "Challenge: I recall that Jay(our alumni) wrote this in $<5$ lines using comprehension. Do this **only if** you finish the long version and do not forget to submit the long version.\n",
    "\n",
    "This is something you should do it once in your life. Then for the rest of your life use `np.linalg.solve` or some library if you need to solve system of linear equations."
   ]
  },
  {
   "cell_type": "code",
   "execution_count": 20,
   "metadata": {},
   "outputs": [],
   "source": [
    "A = np.array([[-0.07720066,  1.24180298, -1.70285456, -1.59426978, -3.01504378,\n",
    "        -0.01902549, -0.03201064, -0.48214818, -1.27554107, -1.86678803],\n",
    "       [-1.31026178, -0.2971768 ,  1.33060751, -1.18923338,  1.26796178,\n",
    "         1.00551987,  0.00766911, -1.31224212, -0.50902706,  1.08833534],\n",
    "       [ 0.00514475,  0.1884909 , -0.4100754 ,  0.50341764,  0.58709926,\n",
    "        -0.37333076,  1.2869738 ,  0.05395632, -0.46286786, -0.76367185],\n",
    "       [ 0.40365969, -1.96291233, -0.50175568,  0.18142524, -0.67746751,\n",
    "         0.67076161, -0.95049002,  2.74931199, -1.13015379,  0.27785431],\n",
    "       [-0.09189647, -0.39525972,  0.37683505, -0.96245216, -0.5243782 ,\n",
    "         0.29585765,  0.36129507,  0.29181967,  1.7310231 ,  0.7081621 ],\n",
    "       [ 0.51380985, -0.30144819, -0.90054149,  0.0070792 ,  1.49102295,\n",
    "        -0.74968201, -2.10741739,  0.42250329, -0.77394164, -0.70696497],\n",
    "       [ 0.81974365, -0.35722291,  0.65875384, -2.13288612, -0.38778701,\n",
    "         0.01710055,  1.2020558 , -1.16650793,  0.64024404, -0.78791643],\n",
    "       [-1.7032489 , -0.22689565,  1.25694671, -0.1527868 ,  1.40786095,\n",
    "         0.81767256, -0.85561595,  0.70192948, -0.67892646,  0.62788067],\n",
    "       [ 1.6163143 ,  0.10904024,  0.172866  ,  2.07392891,  0.9166984 ,\n",
    "         0.72032333, -0.61654133,  0.3757916 ,  0.330539  ,  0.84006191],\n",
    "       [-0.81789953, -0.84657951, -1.55897657, -0.46275441,  0.05571126,\n",
    "        -2.07063125, -0.32495521, -0.79838269, -0.02436165,  0.6087792 ]])\n",
    "\n",
    "B = np.array([ 0.44856869, -0.24446046, -0.41493562,  0.20844983,  0.58973061,\n",
    "        0.3997515 , -1.21156859,  1.67593083, -1.41259173,  1.76241789])"
   ]
  },
  {
   "cell_type": "code",
   "execution_count": 21,
   "metadata": {},
   "outputs": [],
   "source": [
    "def f_eli(A_in,B_in):\n",
    "    A = np.copy(A_in)\n",
    "    B = np.copy(B_in)\n",
    "    \n",
    "    n = A.shape[0]\n",
    "    for i in range(n):\n",
    "        for j in range(i+1,n):\n",
    "            c = A[j][i]/A[i][i]\n",
    "            \n",
    "            A[j][:] = A[j][:] - c*A[i][:]\n",
    "            B[j] = B[j] - c*B[i]\n",
    "        B[i] = B[i]/A[i][i]   \n",
    "        A[i][:] = A[i][:]/A[i][i]\n",
    "                  \n",
    "    return A,B\n",
    "\n",
    "def b_eli(A_in, B_in):\n",
    "    A = np.copy(A_in)\n",
    "    B = np.copy(B_in)\n",
    "    \n",
    "    n = A.shape[0]\n",
    "    for i in range(n-1,-1,-1):\n",
    "        for j in range(i-1,-1,-1):\n",
    "            \n",
    "            B[j] = B[j] - B[i]*A[j][i]\n",
    "            A[j] = A[j] - A[i]*A[j][i]\n",
    "           \n",
    "            \n",
    "    return A,B\n",
    "def solve(A,B):\n",
    "    a,b = f_eli(A,B)\n",
    "    a,b = b_eli(a,b)\n",
    "    return b"
   ]
  },
  {
   "cell_type": "code",
   "execution_count": 22,
   "metadata": {},
   "outputs": [
    {
     "name": "stdout",
     "output_type": "stream",
     "text": [
      "[ 2.28049472  5.76716414  1.19636714 -3.84073903  0.71087622 -4.3287015\n",
      "  1.13760969  4.24796351 -2.82480127  5.39997647]\n",
      " \n",
      "[ 2.28049472  5.76716414  1.19636714 -3.84073903  0.71087622 -4.3287015\n",
      "  1.13760969  4.24796351 -2.82480127  5.39997647]\n"
     ]
    }
   ],
   "source": [
    "ans = solve(A,B)\n",
    "cheat = np.linalg.solve(A,B)\n",
    "print(ans)\n",
    "print(\" \")\n",
    "print(cheat)"
   ]
  },
  {
   "cell_type": "markdown",
   "metadata": {},
   "source": [
    "#### 2) Finding Inverse.\n",
    "\n",
    "The question is long but the answer is doesn't require much code if you know what to do.\n",
    "\n",
    "Gaussian Elimination can actually be used to find inverse matrix. Inverse matrix of matrix $A$ is denoted by $A^{-1}$ and it as the property that\n",
    "$$A \\times A^{-1} = I$$\n",
    "where $I$ is an identity matrix.\n",
    "\n",
    "For example, Let\n",
    "\n",
    "$$ A = \\begin{bmatrix}\n",
    "    -1 & 0 & 2 \\\\\n",
    "    0 & 5 & 1 \\\\\n",
    "    1 & 0 & -1\n",
    "    \\end{bmatrix}\n",
    "$$\n",
    "\n",
    "Then,\n",
    "\n",
    "$$\n",
    "    A^{-1} = \\begin{bmatrix}\n",
    "    1 & 0 & 2\\\\\n",
    "    -0.2 & 0.2 & -0.2\\\\\n",
    "    1 & 0 & 1\n",
    "    \\end{bmatrix}\n",
    "$$"
   ]
  },
  {
   "cell_type": "code",
   "execution_count": 23,
   "metadata": {},
   "outputs": [
    {
     "name": "stdout",
     "output_type": "stream",
     "text": [
      "[[-1  0  2]\n",
      " [ 0  5  1]\n",
      " [ 1  0 -1]]\n",
      " \n",
      "[[ 1.   0.   2. ]\n",
      " [-0.2  0.2 -0.2]\n",
      " [ 1.   0.   1. ]]\n",
      " \n",
      "[[ 1.  0.  0.]\n",
      " [ 0.  1.  0.]\n",
      " [ 0.  0.  1.]]\n",
      " \n",
      "[[ 1.  0.  0.]\n",
      " [ 0.  1.  0.]\n",
      " [ 0.  0.  1.]]\n",
      " \n"
     ]
    }
   ],
   "source": [
    "A=np.array([\n",
    "    [-1,0,2],\n",
    "    [0, 5, 1],\n",
    "    [1, 0,-1]\n",
    "           ])\n",
    "print(A)\n",
    "print(\" \")\n",
    "Ainv = np.array([[1,0,2],[-0.2,0.2,-0.2],[1,0,1]])\n",
    "print(Ainv)\n",
    "print(\" \")\n",
    "prod1 = np.dot(A, Ainv) #that's how you do matrix multiplication in numpy\n",
    "print(prod1)\n",
    "print(\" \")\n",
    "prod2 = np.dot(Ainv, A)\n",
    "print(prod2)\n",
    "print(\" \")"
   ]
  },
  {
   "cell_type": "markdown",
   "metadata": {},
   "source": [
    "Solving for inverse is the same as finding matrix $B$ such that\n",
    "$$ A \\times B = I$$\n",
    "\n",
    "If you were given a good education in basic math class, you may have noticed that finding an inverse is actually the same as solving equations.\n",
    "Let us consider the first column of the identity matrix.\n",
    "\n",
    "$$\n",
    "\\begin{bmatrix}\n",
    "1 \\\\ 0 \\\\ 0\n",
    "\\end{bmatrix}\n",
    "$$\n",
    "\n",
    "This column is obtained by the first column of the matrix $B$ with $A$ \n",
    "\n",
    "$$\\begin{bmatrix}\n",
    "    -1 & 0 & 2 \\\\\n",
    "    0 & 5 & 1 \\\\\n",
    "    1 & 0 & -1\n",
    "    \\end{bmatrix}\n",
    "    \\times\n",
    "\\begin{bmatrix}\n",
    "    \\color{red}{b_{1,1}} & b_{1,2} & b_{1,3} \\\\\n",
    "    \\color{red}{b_{2,1}} & b_{2,2} & b_{2,3} \\\\\n",
    "    \\color{red}{b_{3,1}} & b_{3,2} & b_{3,3}\n",
    "    \\end{bmatrix}  \n",
    "    =\n",
    "    \\begin{bmatrix}\n",
    "    \\color{red}{1} & 0 & 0 \\\\\n",
    "    \\color{red}{0} & 1 & 0 \\\\\n",
    "    \\color{red}{0} & 0 & 1\n",
    "    \\end{bmatrix}\n",
    "$$\n",
    "\n",
    "Ignoring all the $b$'s that does not contribute to the first column of identity matrix we have the problem of\n",
    "$$\\begin{bmatrix}\n",
    "    -1 & 0 & 2 \\\\\n",
    "    0 & 5 & 1 \\\\\n",
    "    1 & 0 & -1\n",
    "    \\end{bmatrix}\n",
    "    \\times\n",
    "\\begin{bmatrix}\n",
    "    \\color{red}{b_{1,1}} \\\\\n",
    "    \\color{red}{b_{2,1}} \\\\\n",
    "    \\color{red}{b_{3,1}}\n",
    "    \\end{bmatrix}  \n",
    "    =\n",
    "    \\begin{bmatrix}\n",
    "    \\color{red}{1} \\\\\n",
    "    \\color{red}{0}  \\\\\n",
    "    \\color{red}{0} \n",
    "    \\end{bmatrix}\n",
    "$$\n",
    "which is something we know how to solve. Solving this equation will give us the first column of $B$. The same logic can be applied to other columns and figure out the rest of $b$.\n",
    "\n",
    "There are two ways to write this. First, inefficient way of solving the same equation over and over. Second, modify what we did in problem 1) instead of having $c$ as column matrix you have $c$ as an $n\\times n$ matrix. Any of the two implementations will receive full credit.\n",
    "\n",
    "Do the inefficient one and finish the rest of the homework first. This can be done in less than 10 lines. If you have time, I encourage you to do it efficiently.\n",
    "\n",
    "Hint: check your answer against `np.linalg.inv`\n",
    "\n",
    "Hint2: You may find broadcast assignment you learned in exercise useful."
   ]
  },
  {
   "cell_type": "markdown",
   "metadata": {},
   "source": [
    "#### Your task for problem 2)\n",
    "Implement a function that find an inverse of an $n\\times n$ matrix. Then find the inverse of matrix $A$ given below. You code should work with all size of $n$.\n",
    "\n",
    "This is something you should do it once in your life. Then for the rest of your life use `np.linalg.inv` or some library if you need to find and inverse."
   ]
  },
  {
   "cell_type": "code",
   "execution_count": 3,
   "metadata": {},
   "outputs": [],
   "source": [
    "def makeI(A):\n",
    "    n = len(A)\n",
    "    I = np.zeros((n,n))\n",
    "    for i in range(n):\n",
    "        for j in range(n):\n",
    "            if i == j:\n",
    "                I[i][j] = 1.\n",
    "                break\n",
    "    return I"
   ]
  },
  {
   "cell_type": "code",
   "execution_count": 4,
   "metadata": {},
   "outputs": [],
   "source": [
    "A = np.array([[-0.07720066,  1.24180298, -1.70285456, -1.59426978, -3.01504378,\n",
    "        -0.01902549, -0.03201064, -0.48214818, -1.27554107, -1.86678803],\n",
    "       [-1.31026178, -0.2971768 ,  1.33060751, -1.18923338,  1.26796178,\n",
    "         1.00551987,  0.00766911, -1.31224212, -0.50902706,  1.08833534],\n",
    "       [ 0.00514475,  0.1884909 , -0.4100754 ,  0.50341764,  0.58709926,\n",
    "        -0.37333076,  1.2869738 ,  0.05395632, -0.46286786, -0.76367185],\n",
    "       [ 0.40365969, -1.96291233, -0.50175568,  0.18142524, -0.67746751,\n",
    "         0.67076161, -0.95049002,  2.74931199, -1.13015379,  0.27785431],\n",
    "       [-0.09189647, -0.39525972,  0.37683505, -0.96245216, -0.5243782 ,\n",
    "         0.29585765,  0.36129507,  0.29181967,  1.7310231 ,  0.7081621 ],\n",
    "       [ 0.51380985, -0.30144819, -0.90054149,  0.0070792 ,  1.49102295,\n",
    "        -0.74968201, -2.10741739,  0.42250329, -0.77394164, -0.70696497],\n",
    "       [ 0.81974365, -0.35722291,  0.65875384, -2.13288612, -0.38778701,\n",
    "         0.01710055,  1.2020558 , -1.16650793,  0.64024404, -0.78791643],\n",
    "       [-1.7032489 , -0.22689565,  1.25694671, -0.1527868 ,  1.40786095,\n",
    "         0.81767256, -0.85561595,  0.70192948, -0.67892646,  0.62788067],\n",
    "       [ 1.6163143 ,  0.10904024,  0.172866  ,  2.07392891,  0.9166984 ,\n",
    "         0.72032333, -0.61654133,  0.3757916 ,  0.330539  ,  0.84006191],\n",
    "       [-0.81789953, -0.84657951, -1.55897657, -0.46275441,  0.05571126,\n",
    "        -2.07063125, -0.32495521, -0.79838269, -0.02436165,  0.6087792 ]])"
   ]
  },
  {
   "cell_type": "code",
   "execution_count": 5,
   "metadata": {},
   "outputs": [],
   "source": [
    "def f_inver(A_in):\n",
    "    A = np.copy(A_in)\n",
    "    I = makeI(A_in)\n",
    "    n = A.shape[0]\n",
    "    for i in range(n):\n",
    "        for j in range(i+1,n):\n",
    "            c = A[j][i]/A[i][i]\n",
    "\n",
    "            I[j][:] = I[j][:] - c*I[i][:]\n",
    "            A[j][:] = A[j][:] - c*A[i][:]\n",
    "        \n",
    "        I[i][:] = I[i][:]/A[i][i]\n",
    "        A[i][:] = A[i][:]/A[i][i]\n",
    "        \n",
    "#     print(A)\n",
    "#     print(I)\n",
    "    return A,I\n",
    "def b_eli(A_in, B_in):\n",
    "    A = np.copy(A_in)\n",
    "    B = np.copy(B_in)\n",
    "    \n",
    "    n = A.shape[0]\n",
    "    for i in range(n-1,-1,-1):\n",
    "        for j in range(i-1,-1,-1):\n",
    "            \n",
    "            B[j] = B[j] - B[i]*A[j][i]\n",
    "            A[j] = A[j] - A[i]*A[j][i] \n",
    "    return A,B"
   ]
  },
  {
   "cell_type": "code",
   "execution_count": 6,
   "metadata": {},
   "outputs": [],
   "source": [
    "def inver(A):\n",
    "    a, I = f_inver(A)\n",
    "    ans =b_eli(a,I)\n",
    "    return ans"
   ]
  },
  {
   "cell_type": "code",
   "execution_count": 7,
   "metadata": {},
   "outputs": [
    {
     "name": "stdout",
     "output_type": "stream",
     "text": [
      "[[ 0.21582734  0.35971223 -0.00719424]\n",
      " [ 0.13669065 -0.43884892  0.02877698]\n",
      " [ 0.07913669 -0.20143885 -0.03597122]]\n",
      "\n",
      "[[ 0.21582734  0.35971223 -0.00719424]\n",
      " [ 0.13669065 -0.43884892  0.02877698]\n",
      " [ 0.07913669 -0.20143885 -0.03597122]]\n"
     ]
    }
   ],
   "source": [
    "a = np.array([[3.,2,1],\n",
    "              [1.,-1,-1],\n",
    "              [1.,10,-20]\n",
    "             ])\n",
    "\n",
    "m,I = inver(a)\n",
    "# print(m)\n",
    "print(I)\n",
    "print()\n",
    "print(np.linalg.inv(a))"
   ]
  },
  {
   "cell_type": "code",
   "execution_count": 9,
   "metadata": {},
   "outputs": [
    {
     "name": "stdout",
     "output_type": "stream",
     "text": [
      "[[ 1.   0.   2. ]\n",
      " [-0.2  0.2 -0.2]\n",
      " [ 1.   0.   1. ]]\n",
      "\n",
      "[[ 1.  -0.   2. ]\n",
      " [-0.2  0.2 -0.2]\n",
      " [ 1.   0.   1. ]]\n"
     ]
    },
    {
     "data": {
      "text/plain": [
       "array([[ 1.,  0.,  0.],\n",
       "       [ 0.,  1.,  0.],\n",
       "       [ 0.,  0.,  1.]])"
      ]
     },
     "execution_count": 9,
     "metadata": {},
     "output_type": "execute_result"
    }
   ],
   "source": [
    "#becareful of data type\n",
    "aa=np.array([\n",
    "    [-1,0,2],\n",
    "    [0, 5., 1], #[0, 5, 1], this broke my code\n",
    "    [1, 0,-1]\n",
    "           ])\n",
    "m,Iaa = inver(aa)\n",
    "# print(m)\n",
    "print(Iaa)\n",
    "print()\n",
    "print(np.linalg.inv(aa))\n",
    "np.dot(aa,Iaa)"
   ]
  },
  {
   "cell_type": "code",
   "execution_count": 30,
   "metadata": {},
   "outputs": [
    {
     "name": "stdout",
     "output_type": "stream",
     "text": [
      "[[ 1.29975163 -1.69745263  0.44266441 -0.20937311 -0.0391777  -0.91786713\n",
      "   2.43472698  3.56308836  3.10051257  1.84857314]\n",
      " [ 2.45889247 -2.97001206  1.02683609 -0.71545785  0.33575367 -1.60404605\n",
      "   3.62799634  6.56253459  5.07566703  3.13411062]\n",
      " [ 0.19161507 -1.12156699 -0.46216366 -0.17295685 -0.65892957 -0.68653192\n",
      "   1.23869278  1.75752925  0.87511428  0.64399971]\n",
      " [-1.65443495  1.79127057 -0.74499045  0.28239823 -0.40178571  0.93186067\n",
      "  -2.65144895 -4.32525968 -3.32581125 -2.17080325]\n",
      " [ 0.33095026 -0.20770796  0.60583985 -0.11565068  0.33258215  0.06814082\n",
      "   0.49144169  0.93221456  0.82264077  0.43060632]\n",
      " [-1.29933083  2.49706047 -0.23883507  0.41953297  0.39187002  1.30973314\n",
      "  -2.83837193 -4.59278565 -3.16955213 -2.43734614]\n",
      " [ 0.61310821 -0.68094295  0.72115587 -0.064671    0.14725662 -0.61177007\n",
      "   1.03447059  1.65657142  1.36717441  0.89357089]\n",
      " [ 1.54882085 -2.19129799  0.81470688 -0.22767278  0.33339219 -1.08621019\n",
      "   2.52404122  4.5653399   3.31992443  2.12049031]\n",
      " [-1.32024285  1.55085206 -0.46276843  0.12690439  0.41431575  1.08534602\n",
      "  -2.24441397 -3.66143982 -2.83663446 -1.89517102]\n",
      " [ 2.25465828 -2.58419024  0.83992595 -0.39496295  0.25629062 -1.77261387\n",
      "   3.54628098  6.14421512  5.05116443  3.33615487]]\n",
      "\n",
      "[[ 1.29975163 -1.69745263  0.44266441 -0.20937311 -0.0391777  -0.91786713\n",
      "   2.43472698  3.56308836  3.10051257  1.84857314]\n",
      " [ 2.45889247 -2.97001206  1.02683609 -0.71545785  0.33575367 -1.60404605\n",
      "   3.62799634  6.56253459  5.07566703  3.13411062]\n",
      " [ 0.19161507 -1.12156699 -0.46216366 -0.17295685 -0.65892957 -0.68653192\n",
      "   1.23869278  1.75752925  0.87511428  0.64399971]\n",
      " [-1.65443495  1.79127057 -0.74499045  0.28239823 -0.40178571  0.93186067\n",
      "  -2.65144895 -4.32525968 -3.32581125 -2.17080325]\n",
      " [ 0.33095026 -0.20770796  0.60583985 -0.11565068  0.33258215  0.06814082\n",
      "   0.49144169  0.93221456  0.82264077  0.43060632]\n",
      " [-1.29933083  2.49706047 -0.23883507  0.41953297  0.39187002  1.30973314\n",
      "  -2.83837193 -4.59278565 -3.16955213 -2.43734614]\n",
      " [ 0.61310821 -0.68094295  0.72115587 -0.064671    0.14725662 -0.61177007\n",
      "   1.03447059  1.65657142  1.36717441  0.89357089]\n",
      " [ 1.54882085 -2.19129799  0.81470688 -0.22767278  0.33339219 -1.08621019\n",
      "   2.52404122  4.5653399   3.31992443  2.12049031]\n",
      " [-1.32024285  1.55085206 -0.46276843  0.12690439  0.41431575  1.08534602\n",
      "  -2.24441397 -3.66143982 -2.83663446 -1.89517102]\n",
      " [ 2.25465828 -2.58419024  0.83992595 -0.39496295  0.25629062 -1.77261387\n",
      "   3.54628098  6.14421512  5.05116443  3.33615487]]\n"
     ]
    }
   ],
   "source": [
    "m,I = inver(A)\n",
    "# print(mx)\n",
    "print(I)\n",
    "print()\n",
    "print(np.linalg.inv(A))\n",
    "# np.dot(A,I)"
   ]
  },
  {
   "cell_type": "markdown",
   "metadata": {},
   "source": [
    "#### 3) Non linear equation I.\n",
    "Consider these equations.\n",
    "$$e^{\\frac{x-3}{2}} + 2y = 1$$\n",
    "$$x^2 + xy = 3$$"
   ]
  },
  {
   "cell_type": "code",
   "execution_count": 31,
   "metadata": {},
   "outputs": [],
   "source": [
    "def u(x,y):\n",
    "    return np.exp((x-3)/2) +2*y -1\n",
    "def v(x,y):\n",
    "    return x**2+x*y-3"
   ]
  },
  {
   "cell_type": "markdown",
   "metadata": {},
   "source": [
    " #### 3.1) Draw Contour plot similar to the exercise that shows where the solutions are(There are three)."
   ]
  },
  {
   "cell_type": "code",
   "execution_count": 36,
   "metadata": {},
   "outputs": [
    {
     "data": {
      "image/png": "[encoded data removed]",
      "text/plain": [
       "<matplotlib.figure.Figure at 0x110517438>"
      ]
     },
     "metadata": {},
     "output_type": "display_data"
    },
    {
     "data": {
      "image/png": "[encoded data removed]",
      "text/plain": [
       "<matplotlib.figure.Figure at 0x110638128>"
      ]
     },
     "metadata": {},
     "output_type": "display_data"
    },
    {
     "data": {
      "image/png": "[encoded data removed]",
      "text/plain": [
       "<matplotlib.figure.Figure at 0x1107786a0>"
      ]
     },
     "metadata": {},
     "output_type": "display_data"
    }
   ],
   "source": [
    "from mpl_toolkits.mplot3d import Axes3D\n",
    "from matplotlib import cm\n",
    "#see http://matplotlib.org/examples/pylab_examples/contour_demo.html\n",
    "nx = 100\n",
    "ny = 100\n",
    "x = np.linspace(-20,20,nx)\n",
    "y = np.linspace(-20,20,ny)\n",
    "xgrid, ygrid = np.meshgrid(x, y)\n",
    "#print ygrid\n",
    "uz = np.zeros((nx,ny))\n",
    "vz = np.zeros((nx,ny))\n",
    "for ix in range(nx):\n",
    "    for iy in range(ny):\n",
    "        xx = x[ix]\n",
    "        yy = y[iy]\n",
    "        uz[iy,ix] = u(xx,yy) ##<<<<<<This is not a typo: [iy,ix]\n",
    "        vz[iy,ix] = v(xx,yy)\n",
    "\n",
    "\n",
    "ucs = plt.contour(x, y, uz, colors=('b','r','g'))\n",
    "plt.clabel(ucs, inline=1, fontsize=10)\n",
    "plt.grid()\n",
    "plt.title('u(x,y)')\n",
    "\n",
    "plt.figure()\n",
    "vcs = plt.contour(x, y, vz, colors=('b','r','g'))\n",
    "plt.clabel(vcs, inline=1, fontsize=10,)\n",
    "plt.title('v(x,y)')\n",
    "plt.grid()\n",
    "plt.figure()\n",
    "\n",
    "ucs = plt.contour(x, y, uz, colors=('r','r','r'))\n",
    "plt.clabel(ucs, inline=1, fontsize=10)\n",
    "vcs = plt.contour(x, y, vz, colors=('b','b','b'))\n",
    "plt.clabel(vcs, inline=1, fontsize=10,)\n",
    "plt.title('v(x,y) and u(x,y)')\n",
    "\n",
    "plt.grid()\n",
    "\n"
   ]
  },
  {
   "cell_type": "markdown",
   "metadata": {},
   "source": [
    "##### 3.2) Find all solutions. Using Newton's method. Make sure you start close to these points. If it doesnt' converge to the point you want, try moving the initial guess.\n",
    "\n",
    "Remember to plot to verify"
   ]
  },
  {
   "cell_type": "code",
   "execution_count": 37,
   "metadata": {},
   "outputs": [],
   "source": [
    "def d(f, start, n): ## start = x0\n",
    "    h = 1e-4\n",
    "    x = start\n",
    "    df= ((f((x+h))-f((x-h)))/(h+h))\n",
    "    for i in range(n):\n",
    "        x = x- f(x)/df\n",
    "        df= ((f(x+h)-f(x-h))/(h+h))\n",
    "    return x"
   ]
  },
  {
   "cell_type": "code",
   "execution_count": 38,
   "metadata": {},
   "outputs": [],
   "source": [
    "def solve(x0,y0,u,v):\n",
    "    x = x0\n",
    "    y = y0\n",
    "    h=1e-4\n",
    "    i = 0\n",
    "    while(True):\n",
    "        \n",
    "        du_x = (u(x+h,y) - u(x,y))/h\n",
    "        du_y = (u(x,y+h) - u(x,y))/h\n",
    "                \n",
    "        dv_x = (v(x+h,y) - v(x,y))/h\n",
    "        dv_y = (v(x,y+h) - v(x,y))/h\n",
    "        \n",
    "        C = [-u(x,y) + du_x * x + du_y *y,\n",
    "             -v(x,y)+ dv_x * x + dv_y*y]\n",
    "        \n",
    "        A = [[du_x, du_y],\n",
    "             [dv_x, dv_y]]\n",
    "        \n",
    "        x_r, y_r = np.linalg.solve(A,C)   \n",
    "        \n",
    "        if(np.abs(x_r - x)< 1e-5 and np.abs(y_r - y)< 1e-5):\n",
    "            break;\n",
    "        x = x_r\n",
    "        y = y_r\n",
    "    \n",
    "    return x_r,y_r\n",
    "        "
   ]
  },
  {
   "cell_type": "code",
   "execution_count": 45,
   "metadata": {},
   "outputs": [
    {
     "name": "stdout",
     "output_type": "stream",
     "text": [
      "-1.97638951758 0.458470112879\n",
      "1.61142319568 0.250285142663\n",
      "8.76304213949 -8.42069527498\n"
     ]
    }
   ],
   "source": [
    "# from the graph\n",
    "x1,y1 = solve(-1,1,u,v)\n",
    "x2,y2 = solve(1,5,u,v)\n",
    "x3,y3 = solve(8,-5,u,v)\n",
    "print(x1,y1)\n",
    "print(x2,y2 )\n",
    "print(x3,y3 )"
   ]
  },
  {
   "cell_type": "code",
   "execution_count": 46,
   "metadata": {},
   "outputs": [
    {
     "data": {
      "image/png": "[encoded data removed]",
      "text/plain": [
       "<matplotlib.figure.Figure at 0x110919518>"
      ]
     },
     "metadata": {},
     "output_type": "display_data"
    }
   ],
   "source": [
    "ucs = plt.contour(x, y, uz, colors=('r','r','r'))\n",
    "plt.clabel(ucs, inline=1, fontsize=10)\n",
    "vcs = plt.contour(x, y, vz, colors=('b','b','b'))\n",
    "plt.clabel(vcs, inline=1, fontsize=10,)\n",
    "plt.title('v(x,y) and u(x,y)')\n",
    "\n",
    "plt.grid()\n",
    "\n",
    "plt.plot(x1,y1,\"o\", color = \"k\")\n",
    "plt.plot(x2,y2,\"o\", color = \"k\")\n",
    "plt.plot(x3,y3,\"o\", color = \"k\")\n",
    "plt.grid()"
   ]
  },
  {
   "cell_type": "markdown",
   "metadata": {},
   "source": [
    "#### 4) Solving System Nonlinear Equations.\n",
    "Use Newton's method to solve this\n",
    "\n",
    "$$x + y + z = 6$$\n",
    "$$x^2 + y^2 + z^2 = 14$$\n",
    "$$x^3 + y^3 + z^3 = 36$$\n",
    "Use $x=1.0, y=0.0, z=-1.0$ as initial guess. (If you do it correctly your answer should be a permutation of 1,2,3)"
   ]
  },
  {
   "cell_type": "code",
   "execution_count": 65,
   "metadata": {},
   "outputs": [],
   "source": [
    "def f_eli(A_in,B_in):\n",
    "    A = np.copy(A_in)\n",
    "    B = np.copy(B_in)\n",
    "    \n",
    "    n = A.shape[0]\n",
    "    for i in range(n):\n",
    "        for j in range(i+1,n):\n",
    "            c = A[j][i]/A[i][i]\n",
    "            \n",
    "            A[j][:] = A[j][:] - c*A[i][:]\n",
    "            B[j] = B[j] - c*B[i]\n",
    "        B[i] = B[i]/A[i][i]   \n",
    "        A[i][:] = A[i][:]/A[i][i]\n",
    "\n",
    "                  \n",
    "    return A,B\n",
    "\n",
    "def b_eli(A_in, B_in):\n",
    "    A = np.copy(A_in)\n",
    "    B = np.copy(B_in)\n",
    "    \n",
    "    n = A.shape[0]\n",
    "    for i in range(n-1,-1,-1):\n",
    "        for j in range(i-1,-1,-1):\n",
    "            \n",
    "            B[j] = B[j] - B[i]*A[j][i]\n",
    "            A[j] = A[j] - A[i]*A[j][i]\n",
    "           \n",
    "            \n",
    "    return A,B"
   ]
  },
  {
   "cell_type": "code",
   "execution_count": 66,
   "metadata": {},
   "outputs": [],
   "source": [
    "def u(x,y,z):\n",
    "    return x +y +z -6\n",
    "def v(x,y,z):\n",
    "    return x**2 +y**2 +z**2 -14\n",
    "def w(x,y,z):\n",
    "    return x**3 +y**3 +z**3 -36"
   ]
  },
  {
   "cell_type": "code",
   "execution_count": 73,
   "metadata": {},
   "outputs": [],
   "source": [
    "def solve(x0,y0,z0,u,v,w):\n",
    "    x = x0\n",
    "    y = y0\n",
    "    z = z0\n",
    "    h=1e-4\n",
    "    while(True):\n",
    "        \n",
    "        du_x = (u(x+h,y,z) - u(x,y,z))/h\n",
    "        du_y = (u(x,y+h,z) - u(x,y,z))/h\n",
    "        du_z = (u(x,y,z+h) - u(x,y,z))/h\n",
    "                \n",
    "        dv_x = (v(x+h,y,z) - v(x,y,z))/h\n",
    "        dv_y = (v(x,y+h,z) - v(x,y,z))/h\n",
    "        dv_z = (v(x,y,z+h) - v(x,y,z))/h\n",
    "    \n",
    "        dw_x = (w(x+h,y,z) - w(x,y,z))/h\n",
    "        dw_y = (w(x,y+h,z) - w(x,y,z))/h\n",
    "        dw_z = (w(x,y,z+h) - w(x,y,z))/h\n",
    "       \n",
    "        \n",
    "        C = [-u(x,y,z) + du_x * x + du_y *y + du_z*z,\n",
    "             -v(x,y,z) + dv_x * x + dv_y *y + dv_z*z,\n",
    "             -w(x,y,z) + dw_x * x + dw_y *y + dw_z*z\n",
    "            ]\n",
    "        \n",
    "        A = [[du_x, du_y, du_z],\n",
    "             [dv_x, dv_y, dv_z],\n",
    "             [dw_x, dw_y, dw_z]\n",
    "            ]\n",
    "        \n",
    "        x_r, y_r, z_r = np.linalg.solve(A,C)\n",
    "#         print(np.linalg.solve(A,C))\n",
    "    \n",
    "        if(np.abs(x_r - x)< 1e-5 and np.abs(y_r - y)< 1e-5) and np.abs(z_r - z)< 1e-5 :\n",
    "            break;\n",
    "        x = x_r\n",
    "        y = y_r\n",
    "        z = z_r\n",
    "    \n",
    "    return x_r,y_r,z_r"
   ]
  },
  {
   "cell_type": "code",
   "execution_count": 74,
   "metadata": {},
   "outputs": [
    {
     "data": {
      "text/plain": [
       "(3.0000000000732547, 1.0000000000710458, 1.999999999855699)"
      ]
     },
     "execution_count": 74,
     "metadata": {},
     "output_type": "execute_result"
    }
   ],
   "source": [
    "solve(10.,0.,-1.,u,v,w)"
   ]
  },
  {
   "cell_type": "markdown",
   "metadata": {},
   "source": [
    "#### 5) Iterative solution. Gauss-Siedel.\n",
    "\n",
    "Gaussian elimination is actually quite expensive (It's $O(n^3)$). This method is actually what people use for large($n>10000$) problem.\n",
    "\n",
    "The idea of the method is actually quite simple. Let us consider a 2 variables problem\n",
    "$$ 5x + y = 6 \\hspace{1in} \\text{Equation A}$$\n",
    "$$ x + 10y = 7 \\hspace{1in} \\text{Equation B}$$\n",
    "\n",
    "The method works by first guess a solution. It doesn't have to be correct Let us guess\n",
    "$$x_0 =1, y_0 =0$$\n",
    "\n",
    "Then, $x_1$ can be found by plugging $y_0$ into Equation A and solve for $$x_1$$\n",
    "\n",
    "$$ x_1 = \\frac{6 - y_0}{5} = 1.2 $$\n",
    "\n",
    "we can then use $x_1$ plug into Equation B and solve for $y_1$. (Notice that we don't use $x_0$ at all. There is a closely related method call Jacobi Method that does that)\n",
    "\n",
    "$$ y_1 = \\frac{7 - x_1}{6} = 0.58$$\n",
    "\n",
    "We then repeat the process and find $x_2$ from $y_1$. Then $y_2$ from $x_2$.\n",
    "\n",
    "$$ x_2 = \\frac{6 - y_1}{5} = 1.084 $$\n",
    "$$ y_2 = \\frac{7 - x_2}{10} = 0.5916 $$\n",
    "\n",
    "We can keep doing this. After 10 iterations, you will find that \n",
    "\n",
    "$$x_{10} = 1.08163265306, y_{10} = 0.591836734694$$\n",
    "which is exactly our solution.\n",
    "\n",
    "One can actually write this algorithm in matrix form(see wikipedia) but I won't ask you to do that. That's actually how it's implemented for generic set of equation.\n",
    "\n",
    "This method converges really fast for special type of matrix called *diagonally dominant* matrix which means the diagonal element is bigger than the sum of the rest of the row. This actually happens a lot in real world applications. This method can also be extended to non-linear equations but usually Newton's method is faster. \n",
    "\n",
    "That being said, this method doesn't even guarantee convergence for other type of matrices. You may not get to the solutions."
   ]
  },
  {
   "cell_type": "markdown",
   "metadata": {},
   "source": [
    "##### 5.1) Solve this using Gauss-Siedel. No need to write a generic solver. Do it for 10 iterations. (Anything after 6 or 7 iteration is essentially the same)\n",
    "\n",
    "$$ 5x + y = 6$$\n",
    "$$ x + 10y = 7$$"
   ]
  },
  {
   "cell_type": "code",
   "execution_count": 78,
   "metadata": {},
   "outputs": [],
   "source": [
    "def Agetx(y):\n",
    "    return (6-y)/5\n",
    "def Bgety(x):\n",
    "    return (7-x)/10"
   ]
  },
  {
   "cell_type": "code",
   "execution_count": 79,
   "metadata": {},
   "outputs": [
    {
     "name": "stdout",
     "output_type": "stream",
     "text": [
      "1.0816326530612246 0.5918367346938775\n"
     ]
    }
   ],
   "source": [
    "x = 1\n",
    "y = 0\n",
    "for i in range(10):\n",
    "    x = Agetx(y)\n",
    "    y = Bgety(x)\n",
    "print(x,y)"
   ]
  },
  {
   "cell_type": "markdown",
   "metadata": {},
   "source": [
    "##### 5.2) Solve this using Gauss-Siedel Method. Again, no need to write a generic solver.\n",
    "\n",
    "$$ 5x + y + 2z = 1$$\n",
    "$$ x + 10y +4z= 2$$\n",
    "$$ x + 2y +7z= 3$$\n",
    "\n",
    "Print out x,y,z for each iteration and stop when the guess doesn't change much any more.\n",
    "\n",
    "Besure to check your answer against the given equation."
   ]
  },
  {
   "cell_type": "code",
   "execution_count": 82,
   "metadata": {},
   "outputs": [],
   "source": [
    "def Agetx(y,z):\n",
    "    return (1-y-2*z)/5\n",
    "def Bgety(x,z):\n",
    "    return (2-x-4*z)/10\n",
    "def Cgetz(x,y):\n",
    "    return (3-x-2*y)/7"
   ]
  },
  {
   "cell_type": "code",
   "execution_count": 88,
   "metadata": {},
   "outputs": [
    {
     "name": "stdout",
     "output_type": "stream",
     "text": [
      "0.027491408934707917 0.030927835051546414 0.415807560137457\n"
     ]
    }
   ],
   "source": [
    "x = 1\n",
    "y = 0\n",
    "z = 1\n",
    "for i in range(10):\n",
    "    x = Agetx(y,z)\n",
    "    y = Bgety(x,z)\n",
    "    z = Cgetz(x,y)\n",
    "print(x,y,z)"
   ]
  },
  {
   "cell_type": "code",
   "execution_count": 89,
   "metadata": {},
   "outputs": [],
   "source": [
    "x = 0.027491408028047327\n",
    "y = 0.030927835433552063\n",
    "z = 0.41580756015783554\n",
    "def check(x,y,z):\n",
    "    return 5*x +y +2*z -1"
   ]
  },
  {
   "cell_type": "code",
   "execution_count": 90,
   "metadata": {},
   "outputs": [
    {
     "data": {
      "text/plain": [
       "-4.1105402415198e-09"
      ]
     },
     "execution_count": 90,
     "metadata": {},
     "output_type": "execute_result"
    }
   ],
   "source": [
    "check(x,y,z)"
   ]
  },
  {
   "cell_type": "code",
   "execution_count": null,
   "metadata": {},
   "outputs": [],
   "source": []
  }
 ],
 "metadata": {
  "kernelspec": {
   "display_name": "Python 3",
   "language": "python",
   "name": "python3"
  },
  "language_info": {
   "codemirror_mode": {
    "name": "ipython",
    "version": 3
   },
   "file_extension": ".py",
   "mimetype": "text/x-python",
   "name": "python",
   "nbconvert_exporter": "python",
   "pygments_lexer": "ipython3",
   "version": "3.6.3"
  }
 },
 "nbformat": 4,
 "nbformat_minor": 1
}
