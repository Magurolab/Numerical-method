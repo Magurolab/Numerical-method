{
 "cells": [
  {
   "cell_type": "markdown",
   "metadata": {},
   "source": [
    "# Midterm T1 2017"
   ]
  },
  {
   "cell_type": "code",
   "execution_count": 40,
   "metadata": {},
   "outputs": [],
   "source": [
    "%matplotlib inline\n",
    "import numpy as np\n",
    "from matplotlib import pyplot as plt"
   ]
  },
  {
   "cell_type": "markdown",
   "metadata": {},
   "source": [
    "The midterm consists of two parts: \n",
    "\n",
    " - **Easy Zone** which worth 100 point each which most of them you can just copy from exercise/homework\n",
    " - **Creative zone** which worth 150 points each.\n",
    " - The score for each sub question is equal unless indicated.\n",
    " - Comment your code!! If it takes me more than 5 minutes to figure out what your code does, I won't grade it.\n",
    " \n",
    " The total score is 900 but you will be graded out of 0.9*900=810."
   ]
  },
  {
   "cell_type": "markdown",
   "metadata": {},
   "source": [
    "# Easy Stuff (100 Each)"
   ]
  },
  {
   "cell_type": "markdown",
   "metadata": {},
   "source": [
    "### 1 Taylor Series\n",
    "\n",
    "1) Find the first 3 *non-zero* terms in Taylor series of\n",
    "$$f(x) = \\frac{1}{2-x}$$"
   ]
  },
  {
   "cell_type": "markdown",
   "metadata": {},
   "source": [
    "Answer  \n",
    "taylor series $f(x)$= 1+ (x-1) + (x-1)^{2} + (x-1)^{3}$"
   ]
  },
  {
   "cell_type": "code",
   "execution_count": 41,
   "metadata": {},
   "outputs": [],
   "source": [
    "def taylor3(x):\n",
    "    return 1 + (x-1) + (x-1)**2 "
   ]
  },
  {
   "cell_type": "markdown",
   "metadata": {},
   "source": [
    "2) Use the Taylor series you found in 1) to find $$\\frac{1}{0.8}$$ **along with bound on error**."
   ]
  },
  {
   "cell_type": "code",
   "execution_count": 42,
   "metadata": {},
   "outputs": [
    {
     "name": "stdout",
     "output_type": "stream",
     "text": [
      "1.24\n",
      "+- 0.008\n"
     ]
    }
   ],
   "source": [
    "# 2-x = 0.8\n",
    "# x =1.2\n",
    "# c = 1\n",
    "#xi = [c,x]\n",
    "#xi = [1, 1.2]\n",
    "print(taylor3(1.2))\n",
    "#xi should be 1.2\n",
    "xi = 1.2\n",
    "errorterm = (xi-1)**3\n",
    "print(\"+-\", np.abs(errorterm))\n",
    "# print(1/0.8)"
   ]
  },
  {
   "cell_type": "markdown",
   "metadata": {},
   "source": [
    "### 2 Bisection (100)"
   ]
  },
  {
   "cell_type": "markdown",
   "metadata": {},
   "source": [
    "We can find euler number $e$ by solving equation.\n",
    "\n",
    "$\\ln x = 1$\n",
    "\n",
    "\n"
   ]
  },
  {
   "cell_type": "code",
   "execution_count": 43,
   "metadata": {},
   "outputs": [],
   "source": [
    "def bisection(f, lower ,upper, error):\n",
    "    n = np.log(error)-1 # how many iteration\n",
    "\n",
    "    for i in range(round(np.abs(int(n)))):\n",
    "        guess = (lower+upper)/2.\n",
    "        if f(lower)*f(guess) < 0:\n",
    "            upper = guess    \n",
    "        else: \n",
    "            lower = guess \n",
    "    return guess\n",
    "def f(x):\n",
    "    return np.log(x) -1"
   ]
  },
  {
   "cell_type": "markdown",
   "metadata": {},
   "source": [
    "1) If we want to find $e$ by bisection with starting bound of [2,3], how many iteration do we need to get it acuurate to $10^{-6}$"
   ]
  },
  {
   "cell_type": "code",
   "execution_count": 44,
   "metadata": {},
   "outputs": [
    {
     "name": "stdout",
     "output_type": "stream",
     "text": [
      "14.0\n"
     ]
    }
   ],
   "source": [
    "error = 1e-6\n",
    "n = np.abs(np.log(error))\n",
    "print(round(n))#the iteration we need"
   ]
  },
  {
   "cell_type": "markdown",
   "metadata": {},
   "source": [
    "2) Find $e$ that is accurate up to $10^{-6}$."
   ]
  },
  {
   "cell_type": "code",
   "execution_count": 45,
   "metadata": {},
   "outputs": [
    {
     "name": "stdout",
     "output_type": "stream",
     "text": [
      "my answer  2.71832275390625\n",
      "e = 2.718281828459045\n"
     ]
    }
   ],
   "source": [
    "print(\"my answer \",bisection(f,2,3,1e-6))\n",
    "print(\"e =\",np.e)"
   ]
  },
  {
   "cell_type": "markdown",
   "metadata": {},
   "source": [
    "### 3. Newton's method (100)"
   ]
  },
  {
   "cell_type": "code",
   "execution_count": 46,
   "metadata": {},
   "outputs": [],
   "source": [
    "def newton(f, start, n): ## start = x0\n",
    "    h = 1e-9\n",
    "    x = start\n",
    "    df= ((f(x+h)-f(x-h))/(h+h))\n",
    "    for i in range(n):\n",
    "        x = x- f(x)/df\n",
    "        df= ((f(x+h)-f(x-h))/(h+h))\n",
    "    return x\n",
    "\n",
    "sin = np.sin\n",
    "cos = np.cos\n",
    "\n",
    "def f(x):\n",
    "    return  sin(x) + np.exp(x) + cos(x) -5 "
   ]
  },
  {
   "cell_type": "markdown",
   "metadata": {},
   "source": [
    "1) Find Newton's method update rule for solving\n",
    "\n",
    "$\\sin(x) + e^x + \\cos(x) = 5$\n"
   ]
  },
  {
   "cell_type": "code",
   "execution_count": 47,
   "metadata": {},
   "outputs": [
    {
     "data": {
      "text/plain": [
       "<matplotlib.lines.Line2D at 0x111b740b8>"
      ]
     },
     "execution_count": 47,
     "metadata": {},
     "output_type": "execute_result"
    },
    {
     "data": {
      "image/png": "[encoded data removed]",
      "text/plain": [
       "<matplotlib.figure.Figure at 0x111a12f60>"
      ]
     },
     "metadata": {},
     "output_type": "display_data"
    }
   ],
   "source": [
    "def newton(f, start, n): ## start = x0\n",
    "    h = 1e-9\n",
    "    x = start\n",
    "    ## here is the update rule###\n",
    "    df= ((f(x+h)-f(x-h))/(h+h))\n",
    "    for i in range(n):\n",
    "        x = x- f(x)/df\n",
    "        df= ((f(x+h)-f(x-h))/(h+h))\n",
    "    ##############################\n",
    "    return x\n",
    "\n",
    "sin = np.sin\n",
    "cos = np.cos\n",
    "\n",
    "def f(x):\n",
    "    return  sin(x) + np.exp(x) + cos(x) -5\n",
    "xs = np.linspace(-5,5,1000)\n",
    "plt.plot(xs,[f(x) for x in xs])\n",
    "plt.axhline(0, color = \"red\")"
   ]
  },
  {
   "cell_type": "markdown",
   "metadata": {},
   "source": [
    "2) Solve the above equation. Pick appropriate starting point."
   ]
  },
  {
   "cell_type": "code",
   "execution_count": 48,
   "metadata": {},
   "outputs": [
    {
     "data": {
      "text/plain": [
       "<matplotlib.lines.Line2D at 0x111db4860>"
      ]
     },
     "execution_count": 48,
     "metadata": {},
     "output_type": "execute_result"
    },
    {
     "data": {
      "image/png": "[encoded data removed]",
      "text/plain": [
       "<matplotlib.figure.Figure at 0x111b2b550>"
      ]
     },
     "metadata": {},
     "output_type": "display_data"
    }
   ],
   "source": [
    "plt.plot(xs,[f(x) for x in xs])\n",
    "plt.axhline(0, color = \"red\")\n",
    "ans = newton(f,0,10)\n",
    "plt.axvline(ans,color = \"green\")\n"
   ]
  },
  {
   "cell_type": "markdown",
   "metadata": {},
   "source": [
    "3) Draw an example when Newton's method doesn't work."
   ]
  },
  {
   "cell_type": "code",
   "execution_count": 49,
   "metadata": {},
   "outputs": [
    {
     "data": {
      "text/plain": [
       "<matplotlib.figure.Figure at 0x111b8b7b8>"
      ]
     },
     "execution_count": 49,
     "metadata": {},
     "output_type": "execute_result"
    },
    {
     "data": {
      "image/png": "[encoded data removed]",
      "text/plain": [
       "<matplotlib.figure.Figure at 0x111b8b898>"
      ]
     },
     "metadata": {},
     "output_type": "display_data"
    },
    {
     "data": {
      "text/plain": [
       "<matplotlib.figure.Figure at 0x111b8b7b8>"
      ]
     },
     "metadata": {},
     "output_type": "display_data"
    }
   ],
   "source": [
    "newtonfail = plt.imread('nf.png')\n",
    "plt.imshow(newtonfail)\n",
    "plt.figure()\n",
    "#if star to guess at x0 ,we cannot reach the answer"
   ]
  },
  {
   "cell_type": "markdown",
   "metadata": {},
   "source": [
    "### 4. Derivative (100)"
   ]
  },
  {
   "cell_type": "markdown",
   "metadata": {},
   "source": [
    "1) Plot the first and second derivative of $f(x) = e^{-x} \\sin(x)$"
   ]
  },
  {
   "cell_type": "code",
   "execution_count": 50,
   "metadata": {},
   "outputs": [
    {
     "data": {
      "text/plain": [
       "<matplotlib.legend.Legend at 0x111b74ac8>"
      ]
     },
     "execution_count": 50,
     "metadata": {},
     "output_type": "execute_result"
    },
    {
     "data": {
      "image/png": "[encoded data removed]",
      "text/plain": [
       "<matplotlib.figure.Figure at 0x111f75470>"
      ]
     },
     "metadata": {},
     "output_type": "display_data"
    }
   ],
   "source": [
    "#answer\n",
    "sin = np.sin\n",
    "def f(x):\n",
    "    return np.exp(-x)*sin(x)\n",
    "def df(f,x):\n",
    "    h = 1e-7\n",
    "    return ((f(x+h)-f(x-h))/(h+h))\n",
    "def ddf(df,f,x):\n",
    "    h = 1e-7\n",
    "    return ((df(f,x+h)-df(f,x-h))/(h+h))\n",
    "xs = np.linspace(-1.5,1.5, 100)\n",
    "plt.plot(xs, [df(f,x) for x in xs], label = \"FIRST DERIVARTIVE\")\n",
    "plt.plot(xs, [ddf(df,f,x) for x in xs], label = \"SECOND DERIVARTIVE\")\n",
    "plt.legend()"
   ]
  },
  {
   "cell_type": "code",
   "execution_count": 51,
   "metadata": {},
   "outputs": [
    {
     "data": {
      "text/plain": [
       "[<matplotlib.lines.Line2D at 0x111e5d780>]"
      ]
     },
     "execution_count": 51,
     "metadata": {},
     "output_type": "execute_result"
    },
    {
     "data": {
      "image/png": "[encoded data removed]",
      "text/plain": [
       "<matplotlib.figure.Figure at 0x111e5d898>"
      ]
     },
     "metadata": {},
     "output_type": "display_data"
    }
   ],
   "source": [
    "##check\n",
    "def df(x):\n",
    "    return np.exp(-x)*(np.cos(x)-np.sin(x))\n",
    "def ddf(x):\n",
    "    return -2*(np.exp(-x)*np.cos(x))\n",
    "plt.plot(xs,[df(x) for x in xs])\n",
    "plt.plot(xs,[ddf(x) for x in xs])"
   ]
  },
  {
   "cell_type": "markdown",
   "metadata": {},
   "source": [
    "2) Which formula is better for approximating $f'(x)$. Answer with no justification recieve no credit.\n",
    "$$\n",
    "g_1(x) = \\frac{f(x+h) - 4 f(x-h) + 3 f(x)}{6h}\n",
    "$$\n",
    "\n",
    "$$\n",
    "g_2(x) = \\frac{f(x+2h) - 3f(x-h) + 2f(x)}{5h}\n",
    "$$"
   ]
  },
  {
   "cell_type": "code",
   "execution_count": 52,
   "metadata": {},
   "outputs": [],
   "source": [
    "#it does not matter whic hone we pick they are the same"
   ]
  },
  {
   "cell_type": "markdown",
   "metadata": {},
   "source": [
    "### 5. Legendre (100)"
   ]
  },
  {
   "cell_type": "code",
   "execution_count": 53,
   "metadata": {},
   "outputs": [],
   "source": [
    "def my_legendre(x, xs, ys):\n",
    "    #fill in\n",
    "    val = 0\n",
    "    for i in range(len(xs)):\n",
    "        nu = 1\n",
    "        de = 1\n",
    "        for j in range(len(xs)):\n",
    "            if(j!= i):\n",
    "                nu *= (x - xs[j])\n",
    "                de *= (xs[i] - xs[j])\n",
    "                \n",
    "        val += (ys[i]*nu/de)\n",
    "        \n",
    "    return val"
   ]
  },
  {
   "cell_type": "markdown",
   "metadata": {},
   "source": [
    "1) Find Legendre Polynomial which passes through all these point."
   ]
  },
  {
   "cell_type": "code",
   "execution_count": 54,
   "metadata": {},
   "outputs": [
    {
     "data": {
      "text/plain": [
       "[<matplotlib.lines.Line2D at 0x1119f9400>]"
      ]
     },
     "execution_count": 54,
     "metadata": {},
     "output_type": "execute_result"
    },
    {
     "data": {
      "image/png": "[encoded data removed]",
      "text/plain": [
       "<matplotlib.figure.Figure at 0x1119f9048>"
      ]
     },
     "metadata": {},
     "output_type": "display_data"
    }
   ],
   "source": [
    "space = np.linspace(-2,20,100)\n",
    "xs = np.array([1,3,5,7,8,9,11])\n",
    "ys = np.array([-2.,1,0,-1,0,1,2])\n",
    "plt.plot(xs, ys, 'o')\n",
    "plt.plot(space,[my_legendre(s,xs,ys) for s in space])"
   ]
  },
  {
   "cell_type": "markdown",
   "metadata": {},
   "source": [
    "### 6. Integral (100)"
   ]
  },
  {
   "cell_type": "code",
   "execution_count": 55,
   "metadata": {},
   "outputs": [],
   "source": [
    "def trapz(f,a,b,n):\n",
    "    edges = np.linspace(a,b,n+1)\n",
    "    h = (b-a)/n\n",
    "    return (sum([f(e) for e in edges]) - 0.5*(f(a) + f(b)))*h\n",
    "\n",
    "\n",
    "def error(a,b,n,ddf,x0):\n",
    "    return (b-a)**3/(12*n**2)*ddf(x0)\n",
    "\n",
    "def cal_error_term(eb,a,b,ddf,x0):\n",
    "    n =1\n",
    "    e = error(a,b,n,ddf,x0)\n",
    "    while(eb< abs(e)):\n",
    "        n +=1\n",
    "        e = error(a,b,n,ddf,x0)\n",
    "    return n\n"
   ]
  },
  {
   "cell_type": "markdown",
   "metadata": {},
   "source": [
    "1) We want to calculate\n",
    "\n",
    "$$\\int_3^7 x^3 +1 \\; dx$$\n",
    "\n",
    "using trapezoid rule such that the answer is at most $10^{-5}$ away from the real answer how many pieces do we need?"
   ]
  },
  {
   "cell_type": "code",
   "execution_count": 56,
   "metadata": {},
   "outputs": [
    {
     "data": {
      "text/plain": [
       "4733"
      ]
     },
     "execution_count": 56,
     "metadata": {},
     "output_type": "execute_result"
    }
   ],
   "source": [
    "def ddf(x):\n",
    "    return 6*x\n",
    "#xi in [a,b]\n",
    "#xi in [3,7]\n",
    "xi = 7\n",
    "cal_error_term(1e-5,3,7,ddf,xi)"
   ]
  },
  {
   "cell_type": "markdown",
   "metadata": {},
   "source": [
    "2) Use trapezoid rule to calculate\n",
    "$$\\int_3^7 x^3 + 1 \\; dx$$\n",
    "such that your answer is at most $10^{-5}$ from the real answer.\n",
    "\n"
   ]
  },
  {
   "cell_type": "code",
   "execution_count": 57,
   "metadata": {},
   "outputs": [
    {
     "name": "stdout",
     "output_type": "stream",
     "text": [
      "584.000007142\n"
     ]
    }
   ],
   "source": [
    "def f(x):\n",
    "    return x**3 +1\n",
    "a =3\n",
    "b =7\n",
    "n =cal_error_term(1e-5,3,7,ddf,xi)\n",
    "ans = trapz(f,a,b,n)\n",
    "print(ans)"
   ]
  },
  {
   "cell_type": "markdown",
   "metadata": {},
   "source": [
    "# Creative Stuff (It's actually easier than you think.)"
   ]
  },
  {
   "cell_type": "markdown",
   "metadata": {},
   "source": [
    "### 7. The other Legendre Polynomial.\n",
    "\n",
    "Legendre did so many things in the past sometimes we have name clash. This is a different one from what we learned in class. This Legendre Polynomial shows up many places in Physics, Engineering and data analysis. https://en.wikipedia.org/wiki/Legendre_polynomials\n",
    "\n",
    "In the homework we did fourier series where we found we can approximate complex function as a sum of sine and cosine. We can do the same thing, but instead of using sine and cosine. We will be using (the other) Legendre Polynomail. Let us get started.\n",
    "\n",
    "Legendre polynomial can be computed recursively by using the following recurrence formula:\n",
    "$$\n",
    "    P_0(x) = 1 \\\\\n",
    "    P_1(x) = x\n",
    "$$\n",
    "and \n",
    "$$\n",
    "    P_{n+1} = \\frac{1}{n+1}\\left[(2n+1)xP_n(x) - nP_{n-1}(x)\\right]\n",
    "$$\n",
    "or equivalently(this is easier for coding)\n",
    "$$\n",
    "    P_{n} = \\frac{1}{n}\\left[ (2n-1) x P_{n-1}(x) - (n-1)P_{n-2}(x)\\right]\n",
    "$$"
   ]
  },
  {
   "cell_type": "markdown",
   "metadata": {},
   "source": [
    "**Task 1** Write a function $P(x, n)$ which computes $P_n(x)$. Check your answer by plotting your $P(x, 4)$ against \n",
    "$$P_4(x) = \\frac{1}{8}(35x^4-30x^2+3)$$ \n",
    "there are couple more for you to check given on wikipedia."
   ]
  },
  {
   "cell_type": "code",
   "execution_count": 19,
   "metadata": {},
   "outputs": [
    {
     "data": {
      "text/plain": [
       "[<matplotlib.lines.Line2D at 0x10f641940>]"
      ]
     },
     "execution_count": 19,
     "metadata": {},
     "output_type": "execute_result"
    },
    {
     "data": {
      "image/png": "[encoded data removed]",
      "text/plain": [
       "<matplotlib.figure.Figure at 0x10f42fda0>"
      ]
     },
     "metadata": {},
     "output_type": "display_data"
    }
   ],
   "source": [
    "def check(x):\n",
    "    return (1/8.)*(35*x**4 - 30*x**2 + 3)\n",
    "\n",
    "def P(x,n):\n",
    "    if(n == 0):\n",
    "        return 1\n",
    "    if(n == 1):\n",
    "        return x\n",
    "    else:\n",
    "        return (1/n)*((2*n-1)*x*(P(x,n-1))-(n-1)*P(x,n-2))\n",
    "    \n",
    "xs = np.linspace(1,100,100)\n",
    "plt.plot(xs,[check(x) for x in xs])\n",
    "plt.plot(xs,[P(x,4) for x in xs])"
   ]
  },
  {
   "cell_type": "markdown",
   "metadata": {},
   "source": [
    "**Task 2** Legendre Polynomial has a very nice property that is\n",
    "$$\n",
    "\\int_{-1}^{1} P_n(x)P_m(x) \\; dx = \\begin{cases} \n",
    "0 & \\text{if }n\\neq m \\\\\n",
    "\\frac{2}{2n+1} & \\text{if } n = m\n",
    "\\end{cases}\n",
    "$$\n",
    "\n",
    "We know something about how to get computer to do integral. **Numerically show that this property is true for all pairs of n,m from 0 to 4.**\n",
    "\n",
    "Clarification: Write a function that compute the right handside quickly and compare left and right hand side. Pick a suitable number of subdivision. They should be close enough."
   ]
  },
  {
   "cell_type": "code",
   "execution_count": 20,
   "metadata": {},
   "outputs": [],
   "source": [
    "def trapz(f,a,b,n):\n",
    "    edges = np.linspace(a,b,n+1)\n",
    "    h = (b-a)/n\n",
    "    return (sum([f(e) for e in edges]) - 0.5*(f(a) + f(b)))*h\n",
    "\n",
    "def check(n,m):\n",
    "    if(n != m):\n",
    "        return 0\n",
    "    else:\n",
    "        return 2/((2*n)+1)\n",
    "    \n",
    "def P(x,n):\n",
    "    if(n == 0):\n",
    "        return 1\n",
    "    if(n == 1):\n",
    "        return x\n",
    "    else:\n",
    "        return (1/n)*(((2*n-1)*x*(P(x,n-1)))-((n-1)*P(x,n-2)))\n",
    "    \n",
    "def PnPm(n,m):\n",
    "    a = -1\n",
    "    b = 1\n",
    "    f = lambda z: P(z,n)*P(z,m)\n",
    "    return trapz(f,a,b, 2000)\n"
   ]
  },
  {
   "cell_type": "code",
   "execution_count": 21,
   "metadata": {},
   "outputs": [],
   "source": [
    "allnm = [ (i,j) for i in range(5) for j in range(5)]\n",
    "# for i,j in allnm:\n",
    "#     print(check(i,j))\n",
    "#     print(PnPm(i,j))\n",
    "#     print(\" \")\n",
    "   "
   ]
  },
  {
   "cell_type": "markdown",
   "metadata": {},
   "source": [
    "**Task 3** The property we learned in Task2 is called Orthorgornality. This is actually what make fourier series magic in the homework works. This means that we can also write a complex function as a sum of Legendre Polynomials just as we did with sine and cosine in homework.\n",
    "\n",
    "$$\n",
    "    f(x) = a_0 P_0(x) + a_1 P_1(x) + a_2 P_2(x) + a_3 P_3(x) + a_4 P_4(x) + \\ldots\n",
    "$$\n",
    "\n",
    "where\n",
    "\n",
    "$$\n",
    "    a_i = \\frac{2i+1}{2}\\int_{-1}^{1} f(x) P_i(x) dx\n",
    "$$\n",
    "(Bonus:(0.0000000001 Point) Prove the above formula.)\n",
    "\n",
    "For example, an approximation of triangle function using sum of Legendre Polynomial for triangle function is shown below.\n",
    "![Triangle Aproximation](leg_series.png)\n",
    "\n",
    "**Your job: Find all the coefficient and make the plot above**\n",
    "\n",
    "Note: up to P20 one may take a while so do up to P5 and P10 and make sure you get it right first."
   ]
  },
  {
   "cell_type": "code",
   "execution_count": 37,
   "metadata": {},
   "outputs": [],
   "source": [
    "def trapz(f,a,b,n,i):\n",
    "    edges = np.linspace(a,b,n+1)\n",
    "    h = (b-a)/n\n",
    "    return (sum([f(e,i) for e in edges]) - 0.5*(f(a,i) + f(b,i)))*h\n",
    "\n",
    "def tri(x):\n",
    "    return 1 - np.abs(x)\n",
    "\n",
    "def P(x,n):\n",
    "    if(n == 0):\n",
    "        return 1\n",
    "    if(n == 1):\n",
    "        return x\n",
    "    else:\n",
    "        return (1/n)*((2*n-1)*x*(P(x,n-1))-(n-1)*P(x,n-2))\n",
    "    \n",
    "def f(x,i):\n",
    "    return tri(x)*P(x,i)\n",
    "\n",
    "def gen_a(n):\n",
    "    lst = []\n",
    "    for i in range(n+1):\n",
    "        lst.append(((2*i+1)/2)*trapz(f,-1,1,100,i))\n",
    "    return lst\n",
    "\n",
    "def leg_s(x,n,ac_lst,f):\n",
    "    s = 0\n",
    "    for i in range(n+1):\n",
    "        ai = ac_lst[i]\n",
    "        s += ai*P(x,i)\n",
    "    return s\n",
    "        \n",
    "    "
   ]
  },
  {
   "cell_type": "code",
   "execution_count": 38,
   "metadata": {},
   "outputs": [
    {
     "data": {
      "text/plain": [
       "<matplotlib.legend.Legend at 0x111c164e0>"
      ]
     },
     "execution_count": 38,
     "metadata": {},
     "output_type": "execute_result"
    },
    {
     "data": {
      "image/png": "[encoded data removed]",
      "text/plain": [
       "<matplotlib.figure.Figure at 0x10f651160>"
      ]
     },
     "metadata": {},
     "output_type": "display_data"
    }
   ],
   "source": [
    "xs = np.linspace(-1,1,100)\n",
    "plt.plot(xs,[tri(x) for x in xs], label = \"tri\")\n",
    "\n",
    "n = 5\n",
    "ac_lst = gen_a(n)\n",
    "plt.plot(xs, [leg_s(x,n,ac_lst,f) for x in xs],label = \"P5\")\n",
    "\n",
    "n = 10\n",
    "ac_lst = gen_a(n)\n",
    "plt.plot(xs, [leg_s(x,n,ac_lst,f) for x in xs], label =\"P10\")\n",
    "\n",
    "n = 20\n",
    "ac_lst = gen_a(n)\n",
    "plt.plot(xs, [leg_s(x,n,ac_lst,f) for x in xs], label =\"P20\")\n",
    "\n",
    "plt.legend()"
   ]
  },
  {
   "cell_type": "markdown",
   "metadata": {},
   "source": [
    "### 8 Ply's Buffet Restaurant. (150)\n",
    "\n",
    "Since it's late evening and I know you are hungry. Let's do a problem about food.\n",
    "\n",
    "Ply apple shop business is doing very well so he expands his business line to Shabu Shabu Buffet called Meme Shabu since he know how to maximize the profit using Poisson distribution. Let us assume that the number of people who wants to eat at his restaurant each day also follows poisson distribution $P(x; \\lambda)$.\n",
    "\n",
    "It's not practical to determine how many days he sell off his buffet like in his apple shop since the food can go over a day. But Ply need to find some other method to determine the parameter $\\lambda$ which he can use to improve his business.\n",
    "\n",
    "Luckily Meme Shabu has a restaurant rating card which *every customer* fills. The rating goes from 5 to 0 stars and the nature of rating customer gives goes as follow\n",
    " - First 50 people for that day will always give 5 stars(each). Since they got good service\n",
    " - Next 50 people, will give 4 stars(each).\n",
    " - Next 50 peole, will give 3 stars(each).\n",
    " - Next 50 peole, will give 2 stars(each).\n",
    " - Next 50 peole, will give 1 stars(each).\n",
    " - The rest will either give 0 star(since they didn't receive service).\n",
    " \n",
    "For example, if there are 157 people who wants to eat at Meme Shabu. The total number of star would be $50*5 + 50*4 + 50*3 + 7*2$. It goes like tax bracket you did in programming 1.\n",
    "\n",
    "Ply found that on average the **total** number of stars his Shabu restaurant gets is 500 stars. **Find $\\lambda$.**"
   ]
  },
  {
   "cell_type": "code",
   "execution_count": 88,
   "metadata": {},
   "outputs": [
    {
     "name": "stdout",
     "output_type": "stream",
     "text": [
      "500\n"
     ]
    }
   ],
   "source": [
    "##GGWP##\n",
    "def p(lmd, k):\n",
    "    return np.exp(k*np.log(lmd) - lmd - (math.lgamma(k+1)))\n",
    "\n",
    "def peopleTostar(pl):\n",
    "    star = 0\n",
    "    if(50%pl<=50):\n",
    "        if(50%pl > 0):\n",
    "            star+=5*(50%pl)\n",
    "        else:\n",
    "            star+=5*pl\n",
    "            return star\n",
    "        star-=(50%pl)\n",
    "    if(50%pl<=50):\n",
    "        if(50%pl > 0):\n",
    "            star+=4*(50%pl)\n",
    "        else:\n",
    "            star+=4*pl\n",
    "            return star\n",
    "        star-=(50%pl)\n",
    "    if(50%pl<=50):\n",
    "        if(50%pl > 0):\n",
    "            star+=3*(50%pl)\n",
    "        else:\n",
    "            star+=3*pl\n",
    "            return star\n",
    "        star-=(50%pl)\n",
    "    if(50%pl<=50):\n",
    "        if(50%pl > 0):\n",
    "            star+=2*(50%pl)\n",
    "        else:\n",
    "            star+=2*pl\n",
    "            return star\n",
    "        star-=(50%pl)\n",
    "    if(50%pl<=50):\n",
    "        if(50%pl > 0):\n",
    "            star+=1*(50%pl)\n",
    "        else:\n",
    "            star+=1*pl\n",
    "            return star\n",
    "        star-=(50%pl)\n",
    "    return star\n",
    "        \n",
    "print(peopleTostar(250))"
   ]
  },
  {
   "cell_type": "code",
   "execution_count": 65,
   "metadata": {},
   "outputs": [
    {
     "name": "stdout",
     "output_type": "stream",
     "text": [
      "750\n"
     ]
    }
   ],
   "source": [
    "#avr 500 stars\n",
    "# I need to find \n",
    "maximum_stars = (50*5) + (50*4) + (50*3) + (50*2) + (50*1) #+ 0*(total-250)\n",
    "print(maximum_stars)\n",
    "avr_stars = 500\n"
   ]
  },
  {
   "cell_type": "code",
   "execution_count": 75,
   "metadata": {},
   "outputs": [
    {
     "data": {
      "text/plain": [
       "50"
      ]
     },
     "execution_count": 75,
     "metadata": {},
     "output_type": "execute_result"
    }
   ],
   "source": [
    "50%500"
   ]
  },
  {
   "cell_type": "code",
   "execution_count": 71,
   "metadata": {},
   "outputs": [
    {
     "data": {
      "text/plain": [
       "50"
      ]
     },
     "execution_count": 71,
     "metadata": {},
     "output_type": "execute_result"
    }
   ],
   "source": [
    "50%450"
   ]
  },
  {
   "cell_type": "code",
   "execution_count": 73,
   "metadata": {},
   "outputs": [
    {
     "data": {
      "text/plain": [
       "20"
      ]
     },
     "execution_count": 73,
     "metadata": {},
     "output_type": "execute_result"
    }
   ],
   "source": [
    "50%30"
   ]
  },
  {
   "cell_type": "code",
   "execution_count": null,
   "metadata": {},
   "outputs": [],
   "source": []
  }
 ],
 "metadata": {
  "kernelspec": {
   "display_name": "Python 3",
   "language": "python",
   "name": "python3"
  },
  "language_info": {
   "codemirror_mode": {
    "name": "ipython",
    "version": 3
   },
   "file_extension": ".py",
   "mimetype": "text/x-python",
   "name": "python",
   "nbconvert_exporter": "python",
   "pygments_lexer": "ipython3",
   "version": "3.6.3"
  },
  "toc": {
   "colors": {
    "hover_highlight": "#DAA520",
    "running_highlight": "#FF0000",
    "selected_highlight": "#FFD700"
   },
   "moveMenuLeft": true,
   "nav_menu": {
    "height": "30px",
    "width": "252px"
   },
   "navigate_menu": true,
   "number_sections": false,
   "sideBar": true,
   "threshold": 4,
   "toc_cell": false,
   "toc_section_display": "block",
   "toc_window_display": false
  }
 },
 "nbformat": 4,
 "nbformat_minor": 2
}
